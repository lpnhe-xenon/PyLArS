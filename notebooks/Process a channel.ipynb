{
 "cells": [
  {
   "cell_type": "markdown",
   "id": "e1720795",
   "metadata": {},
   "source": [
    "# Processing a run"
   ]
  },
  {
   "cell_type": "code",
   "execution_count": 27,
   "id": "caed4a07",
   "metadata": {},
   "outputs": [],
   "source": [
    "import uproot\n",
    "import numpy as np\n",
    "#import pandas as pd\n",
    "#import root_numpy as rootnp\n",
    "import matplotlib.pyplot as plt\n",
    "from datetime import datetime\n",
    "from tqdm import tqdm\n",
    "from scipy import stats\n",
    "from matplotlib.colors import LogNorm\n",
    "from scipy.optimize import curve_fit\n",
    "import matplotlib\n",
    "import scipy.ndimage\n",
    "import glob\n",
    "import awkward as ak\n",
    "import sys\n",
    "#from __future__ import division\n",
    "import itertools\n"
   ]
  },
  {
   "cell_type": "code",
   "execution_count": 2,
   "id": "8bf5f214",
   "metadata": {},
   "outputs": [],
   "source": [
    "%load_ext autoreload\n",
    "%autoreload 2"
   ]
  },
  {
   "cell_type": "code",
   "execution_count": 3,
   "id": "d55324f2",
   "metadata": {},
   "outputs": [],
   "source": [
    "import sys\n",
    "sys.path.append('../')"
   ]
  },
  {
   "cell_type": "code",
   "execution_count": 31,
   "id": "509a3980",
   "metadata": {},
   "outputs": [],
   "source": [
    "import pylars\n",
    "from pylars.plotting.plotwaveforms import plot_waveform"
   ]
  },
  {
   "cell_type": "code",
   "execution_count": 53,
   "id": "83fd73fc",
   "metadata": {},
   "outputs": [],
   "source": [
    "# Create processor\n",
    "process = pylars.processing.simple_processor(sigma_level=5, baseline_samples=50)"
   ]
  },
  {
   "cell_type": "code",
   "execution_count": 55,
   "id": "838fd3fe",
   "metadata": {},
   "outputs": [],
   "source": [
    "#Load the raw data into the processor\n",
    "data_path = '/disk/gfs_atp/xenoscope/SiPMs/char_campaign/raw_data/run6/room_temp_21072022/LED_ON_300K_51_0V/Module0/LED_ON_300K_51_0V_Module_0_0.root'\n",
    "process.load_raw_data(data_path, 49,300)"
   ]
  },
  {
   "cell_type": "code",
   "execution_count": 41,
   "id": "58aec4ad",
   "metadata": {},
   "outputs": [],
   "source": [
    "process.set_tqdm(True, False)"
   ]
  },
  {
   "cell_type": "code",
   "execution_count": 7,
   "id": "6b18380b",
   "metadata": {},
   "outputs": [
    {
     "data": {
      "text/plain": [
       "True"
      ]
     },
     "execution_count": 7,
     "metadata": {},
     "output_type": "execute_result"
    }
   ],
   "source": [
    "'wf0' in process.raw_data.channels"
   ]
  },
  {
   "cell_type": "code",
   "execution_count": 8,
   "id": "6294478c",
   "metadata": {},
   "outputs": [],
   "source": [
    "channel_data = process.raw_data.get_channel_data('wf0')"
   ]
  },
  {
   "cell_type": "code",
   "execution_count": 10,
   "id": "39979a06",
   "metadata": {},
   "outputs": [
    {
     "data": {
      "text/plain": [
       "<Array [[15487, 15493, ... 15465, 15458]] type='20000 * 700 * int32'>"
      ]
     },
     "execution_count": 10,
     "metadata": {},
     "output_type": "execute_result"
    }
   ],
   "source": [
    "channel_data"
   ]
  },
  {
   "cell_type": "code",
   "execution_count": 15,
   "id": "2e9f263b",
   "metadata": {},
   "outputs": [
    {
     "data": {
      "image/png": "[encoded data removed]",
      "text/plain": [
       "<Figure size 432x288 with 1 Axes>"
      ]
     },
     "metadata": {
      "needs_background": "light"
     },
     "output_type": "display_data"
    }
   ],
   "source": [
    "plot_waveform(channel_data[0])"
   ]
  },
  {
   "cell_type": "markdown",
   "id": "cd03b3f9",
   "metadata": {},
   "source": [
    "### Hands(-)on functions"
   ]
  },
  {
   "cell_type": "code",
   "execution_count": 13,
   "id": "0f9ddb93",
   "metadata": {},
   "outputs": [],
   "source": [
    "dz"
   ]
  },
  {
   "cell_type": "code",
   "execution_count": 14,
   "id": "f5add96f",
   "metadata": {},
   "outputs": [],
   "source": [
    "baseline = waveform_processing.get_baseline_rough(channel_data[0], 50)\n",
    "std = waveform_processing.get_std_rough(channel_data[0], 50)"
   ]
  },
  {
   "cell_type": "code",
   "execution_count": 16,
   "id": "270170c1",
   "metadata": {},
   "outputs": [],
   "source": [
    "pks = peak_processing.find_peaks_simple(np.array(channel_data[0]), baseline, std, 2)"
   ]
  },
  {
   "cell_type": "code",
   "execution_count": 28,
   "id": "6d72e915",
   "metadata": {},
   "outputs": [],
   "source": [
    "_waveform = np.array(channel_data[0])"
   ]
  },
  {
   "cell_type": "code",
   "execution_count": 17,
   "id": "3a6b6702",
   "metadata": {},
   "outputs": [
    {
     "data": {
      "text/plain": [
       "[array([304, 305, 306, 307, 308, 309, 310, 311, 312, 313, 314, 315, 316,\n",
       "        317, 318, 319, 320, 321, 322, 323, 324, 325, 326, 327, 328, 329,\n",
       "        330, 331, 332, 333, 334, 335, 336, 337, 338, 339, 340, 341, 342,\n",
       "        343, 344]),\n",
       " array([347, 348]),\n",
       " array([511])]"
      ]
     },
     "execution_count": 17,
     "metadata": {},
     "output_type": "execute_result"
    }
   ],
   "source": [
    "pks"
   ]
  },
  {
   "cell_type": "code",
   "execution_count": null,
   "id": "577e89e1",
   "metadata": {},
   "outputs": [],
   "source": [
    "process"
   ]
  },
  {
   "cell_type": "code",
   "execution_count": 21,
   "id": "fec9c8d8",
   "metadata": {},
   "outputs": [],
   "source": [
    "areas, lengths, positions = waveform_processing.process_waveform(np.array(channel_data[0]), process.baseline_samples, process.sigma_level)"
   ]
  },
  {
   "cell_type": "code",
   "execution_count": 19,
   "id": "a0026b59",
   "metadata": {},
   "outputs": [
    {
     "data": {
      "text/plain": [
       "(array([130610.,    375.,      0.]), [41, 2, 1], [304, 347, 511])"
      ]
     },
     "execution_count": 19,
     "metadata": {},
     "output_type": "execute_result"
    }
   ],
   "source": [
    "areas, lengths, positions"
   ]
  },
  {
   "cell_type": "code",
   "execution_count": null,
   "id": "537f34b5",
   "metadata": {},
   "outputs": [],
   "source": []
  },
  {
   "cell_type": "markdown",
   "id": "f6d7a456",
   "metadata": {},
   "source": [
    "### Full channel"
   ]
  },
  {
   "cell_type": "code",
   "execution_count": 56,
   "id": "aacd7b6d",
   "metadata": {
    "scrolled": true
   },
   "outputs": [
    {
     "name": "stderr",
     "output_type": "stream",
     "text": [
      "Processing channel wf0: 100%|██████████████████████████████████| 20000/20000 [00:02<00:00, 7267.78it/s]\n"
     ]
    }
   ],
   "source": [
    "resutls_ch0 = process.process_channel('wf0')"
   ]
  },
  {
   "cell_type": "code",
   "execution_count": 40,
   "id": "c3624c4a",
   "metadata": {},
   "outputs": [],
   "source": [
    "%lprun -f process.process_channel -f waveform_processing.process_waveform -f peak_processing.find_peaks_simple -f pylars.processing.peaks._split_consecutive process.process_channel('wf0')"
   ]
  },
  {
   "cell_type": "code",
   "execution_count": null,
   "id": "1af83e65",
   "metadata": {},
   "outputs": [],
   "source": []
  },
  {
   "cell_type": "code",
   "execution_count": 58,
   "id": "f6803267",
   "metadata": {},
   "outputs": [],
   "source": [
    "_waveform = np.array(channel_data[0])"
   ]
  },
  {
   "cell_type": "code",
   "execution_count": 62,
   "id": "98b28c94",
   "metadata": {},
   "outputs": [
    {
     "data": {
      "image/png": "[encoded data removed]",
      "text/plain": [
       "<Figure size 432x288 with 1 Axes>"
      ]
     },
     "metadata": {
      "needs_background": "light"
     },
     "output_type": "display_data"
    }
   ],
   "source": [
    "plot_waveform(_waveform)"
   ]
  },
  {
   "cell_type": "code",
   "execution_count": 45,
   "id": "d3fc808c",
   "metadata": {},
   "outputs": [],
   "source": [
    "import pandas as pd"
   ]
  },
  {
   "cell_type": "code",
   "execution_count": 59,
   "id": "1242bbe8",
   "metadata": {},
   "outputs": [],
   "source": [
    "results_ch0 = pd.DataFrame(resutls_ch0)"
   ]
  },
  {
   "cell_type": "code",
   "execution_count": 60,
   "id": "c5443225",
   "metadata": {},
   "outputs": [
    {
     "data": {
      "text/html": [
       "<div>\n",
       "<style scoped>\n",
       "    .dataframe tbody tr th:only-of-type {\n",
       "        vertical-align: middle;\n",
       "    }\n",
       "\n",
       "    .dataframe tbody tr th {\n",
       "        vertical-align: top;\n",
       "    }\n",
       "\n",
       "    .dataframe thead th {\n",
       "        text-align: right;\n",
       "    }\n",
       "</style>\n",
       "<table border=\"1\" class=\"dataframe\">\n",
       "  <thead>\n",
       "    <tr style=\"text-align: right;\">\n",
       "      <th></th>\n",
       "      <th>channel</th>\n",
       "      <th>wf_number</th>\n",
       "      <th>peak_number</th>\n",
       "      <th>area</th>\n",
       "      <th>length</th>\n",
       "      <th>position</th>\n",
       "    </tr>\n",
       "  </thead>\n",
       "  <tbody>\n",
       "    <tr>\n",
       "      <th>0</th>\n",
       "      <td>wf0</td>\n",
       "      <td>0</td>\n",
       "      <td>0</td>\n",
       "      <td>125405.0</td>\n",
       "      <td>34</td>\n",
       "      <td>304</td>\n",
       "    </tr>\n",
       "    <tr>\n",
       "      <th>1</th>\n",
       "      <td>wf0</td>\n",
       "      <td>1</td>\n",
       "      <td>0</td>\n",
       "      <td>127840.0</td>\n",
       "      <td>37</td>\n",
       "      <td>305</td>\n",
       "    </tr>\n",
       "    <tr>\n",
       "      <th>2</th>\n",
       "      <td>wf0</td>\n",
       "      <td>1</td>\n",
       "      <td>1</td>\n",
       "      <td>1360.0</td>\n",
       "      <td>3</td>\n",
       "      <td>347</td>\n",
       "    </tr>\n",
       "    <tr>\n",
       "      <th>3</th>\n",
       "      <td>wf0</td>\n",
       "      <td>2</td>\n",
       "      <td>0</td>\n",
       "      <td>125120.0</td>\n",
       "      <td>35</td>\n",
       "      <td>304</td>\n",
       "    </tr>\n",
       "    <tr>\n",
       "      <th>4</th>\n",
       "      <td>wf0</td>\n",
       "      <td>2</td>\n",
       "      <td>1</td>\n",
       "      <td>0.0</td>\n",
       "      <td>1</td>\n",
       "      <td>340</td>\n",
       "    </tr>\n",
       "    <tr>\n",
       "      <th>...</th>\n",
       "      <td>...</td>\n",
       "      <td>...</td>\n",
       "      <td>...</td>\n",
       "      <td>...</td>\n",
       "      <td>...</td>\n",
       "      <td>...</td>\n",
       "    </tr>\n",
       "    <tr>\n",
       "      <th>35917</th>\n",
       "      <td>wf0</td>\n",
       "      <td>19997</td>\n",
       "      <td>0</td>\n",
       "      <td>114155.0</td>\n",
       "      <td>26</td>\n",
       "      <td>306</td>\n",
       "    </tr>\n",
       "    <tr>\n",
       "      <th>35918</th>\n",
       "      <td>wf0</td>\n",
       "      <td>19998</td>\n",
       "      <td>0</td>\n",
       "      <td>124860.0</td>\n",
       "      <td>35</td>\n",
       "      <td>304</td>\n",
       "    </tr>\n",
       "    <tr>\n",
       "      <th>35919</th>\n",
       "      <td>wf0</td>\n",
       "      <td>19999</td>\n",
       "      <td>0</td>\n",
       "      <td>123345.0</td>\n",
       "      <td>30</td>\n",
       "      <td>305</td>\n",
       "    </tr>\n",
       "    <tr>\n",
       "      <th>35920</th>\n",
       "      <td>wf0</td>\n",
       "      <td>19999</td>\n",
       "      <td>1</td>\n",
       "      <td>2765.0</td>\n",
       "      <td>4</td>\n",
       "      <td>336</td>\n",
       "    </tr>\n",
       "    <tr>\n",
       "      <th>35921</th>\n",
       "      <td>wf0</td>\n",
       "      <td>19999</td>\n",
       "      <td>2</td>\n",
       "      <td>0.0</td>\n",
       "      <td>1</td>\n",
       "      <td>345</td>\n",
       "    </tr>\n",
       "  </tbody>\n",
       "</table>\n",
       "<p>35922 rows × 6 columns</p>\n",
       "</div>"
      ],
      "text/plain": [
       "      channel  wf_number  peak_number      area  length  position\n",
       "0         wf0          0            0  125405.0      34       304\n",
       "1         wf0          1            0  127840.0      37       305\n",
       "2         wf0          1            1    1360.0       3       347\n",
       "3         wf0          2            0  125120.0      35       304\n",
       "4         wf0          2            1       0.0       1       340\n",
       "...       ...        ...          ...       ...     ...       ...\n",
       "35917     wf0      19997            0  114155.0      26       306\n",
       "35918     wf0      19998            0  124860.0      35       304\n",
       "35919     wf0      19999            0  123345.0      30       305\n",
       "35920     wf0      19999            1    2765.0       4       336\n",
       "35921     wf0      19999            2       0.0       1       345\n",
       "\n",
       "[35922 rows x 6 columns]"
      ]
     },
     "execution_count": 60,
     "metadata": {},
     "output_type": "execute_result"
    }
   ],
   "source": [
    "results_ch0"
   ]
  },
  {
   "cell_type": "code",
   "execution_count": 96,
   "id": "f2907af1",
   "metadata": {},
   "outputs": [],
   "source": [
    "from pylars.plotting.plotprocessed import *"
   ]
  },
  {
   "cell_type": "code",
   "execution_count": 98,
   "id": "6b328b51",
   "metadata": {},
   "outputs": [
    {
     "data": {
      "text/plain": [
       "array([<AxesSubplot:xlabel='Area [integrated ADC counts]', ylabel='# events'>,\n",
       "       <AxesSubplot:xlabel='Length [# samples]', ylabel='# events'>,\n",
       "       <AxesSubplot:xlabel='Position [sample #]', ylabel='# events'>],\n",
       "      dtype=object)"
      ]
     },
     "execution_count": 98,
     "metadata": {},
     "output_type": "execute_result"
    },
    {
     "data": {
      "image/png": "[encoded data removed]",
      "text/plain": [
       "<Figure size 1080x288 with 3 Axes>"
      ]
     },
     "metadata": {
      "needs_background": "light"
     },
     "output_type": "display_data"
    }
   ],
   "source": [
    "plot_3hists(results_ch0)"
   ]
  },
  {
   "cell_type": "code",
   "execution_count": 99,
   "id": "27d8a182",
   "metadata": {},
   "outputs": [],
   "source": [
    "cut_mask = ((results_ch0['length'] > 20) &\n",
    "            (results_ch0['position'] > 280) &\n",
    "            (results_ch0['position'] < 400)\n",
    "           )"
   ]
  },
  {
   "cell_type": "code",
   "execution_count": 100,
   "id": "948aaf0f",
   "metadata": {},
   "outputs": [
    {
     "data": {
      "text/plain": [
       "array([<AxesSubplot:xlabel='Area [integrated ADC counts]', ylabel='# events'>,\n",
       "       <AxesSubplot:xlabel='Length [# samples]', ylabel='# events'>,\n",
       "       <AxesSubplot:xlabel='Position [sample #]', ylabel='# events'>],\n",
       "      dtype=object)"
      ]
     },
     "execution_count": 100,
     "metadata": {},
     "output_type": "execute_result"
    },
    {
     "data": {
      "image/png": "[encoded data removed]",
      "text/plain": [
       "<Figure size 1080x288 with 3 Axes>"
      ]
     },
     "metadata": {
      "needs_background": "light"
     },
     "output_type": "display_data"
    }
   ],
   "source": [
    "plot_3hists(results_ch0[cut_mask])"
   ]
  }
 ],
 "metadata": {
  "kernelspec": {
   "display_name": "Python 3 (ipykernel)",
   "language": "python",
   "name": "python3"
  },
  "language_info": {
   "codemirror_mode": {
    "name": "ipython",
    "version": 3
   },
   "file_extension": ".py",
   "mimetype": "text/x-python",
   "name": "python",
   "nbconvert_exporter": "python",
   "pygments_lexer": "ipython3",
   "version": "3.8.13"
  }
 },
 "nbformat": 4,
 "nbformat_minor": 5
}
