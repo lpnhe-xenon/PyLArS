{
 "cells": [
  {
   "cell_type": "markdown",
   "id": "e1720795",
   "metadata": {},
   "source": [
    "# Processing a run"
   ]
  },
  {
   "cell_type": "code",
   "execution_count": 1,
   "id": "94c5b990",
   "metadata": {},
   "outputs": [],
   "source": [
    "# standards\n",
    "import numpy as np\n",
    "import pandas as pd\n",
    "import matplotlib.pyplot as plt\n",
    "\n",
    "# the main package\n",
    "import pylars\n",
    "\n",
    "# plot functions\n",
    "from pylars.plotting.plotwaveforms import *\n",
    "from pylars.plotting.plotprocessed import *\n",
    "\n",
    "# specific sub-mudules for waveform and channel processing\n",
    "from pylars.processing.waveforms import *\n",
    "from pylars.processing.pulses import *\n",
    "from pylars.processing.rawprocessor import *"
   ]
  },
  {
   "cell_type": "code",
   "execution_count": 2,
   "id": "83fd73fc",
   "metadata": {},
   "outputs": [],
   "source": [
    "# Create processor\n",
    "process = pylars.processing.rawprocessor.simple_processor(sigma_level=5, baseline_samples=50)"
   ]
  },
  {
   "cell_type": "code",
   "execution_count": 3,
   "id": "838fd3fe",
   "metadata": {},
   "outputs": [],
   "source": [
    "#Load the raw data into the processor\n",
    "data_path = '/disk/gfs_atp/xenoscope/SiPMs/char_campaign/raw_data/run6/data/BV_185K_50_00V/Module0/BV_185K_50_00V_Module_0_0.root'\n",
    "process.load_raw_data(data_path, 50.0,185, module = 0)"
   ]
  },
  {
   "cell_type": "code",
   "execution_count": 4,
   "id": "d4de9b1b",
   "metadata": {},
   "outputs": [
    {
     "data": {
      "text/plain": [
       "['wf0', 'wf2', 'wf3', 'wf4', 'wf5', 'wf6']"
      ]
     },
     "execution_count": 4,
     "metadata": {},
     "output_type": "execute_result"
    }
   ],
   "source": [
    "process.raw_data.channels"
   ]
  },
  {
   "cell_type": "markdown",
   "id": "3c3a3afe",
   "metadata": {},
   "source": [
    "### Take a look at waveforms"
   ]
  },
  {
   "cell_type": "code",
   "execution_count": 5,
   "id": "6294478c",
   "metadata": {},
   "outputs": [
    {
     "name": "stdout",
     "output_type": "stream",
     "text": [
      "Found 50000 waveforms.\n"
     ]
    }
   ],
   "source": [
    "channel_data = process.raw_data.get_channel_data('wf0')\n",
    "print(f'Found {len(channel_data)} waveforms.')"
   ]
  },
  {
   "cell_type": "code",
   "execution_count": 6,
   "id": "d4215a55",
   "metadata": {},
   "outputs": [
    {
     "data": {
      "text/plain": [
       "(50000, 700)"
      ]
     },
     "execution_count": 6,
     "metadata": {},
     "output_type": "execute_result"
    }
   ],
   "source": [
    "np.shape(channel_data)"
   ]
  },
  {
   "cell_type": "code",
   "execution_count": 7,
   "id": "2e9f263b",
   "metadata": {},
   "outputs": [
    {
     "data": {
      "image/png": "[encoded data removed]",
      "text/plain": [
       "<Figure size 450x150 with 1 Axes>"
      ]
     },
     "metadata": {
      "needs_background": "light"
     },
     "output_type": "display_data"
    }
   ],
   "source": [
    "fig, ax = plt.subplots(1,1,figsize = (15,5), dpi = 30)\n",
    "ax = plot_waveform(channel_data[49999], ax = ax)\n",
    "plt.show()"
   ]
  },
  {
   "cell_type": "markdown",
   "id": "cd03b3f9",
   "metadata": {},
   "source": [
    "### Process by hand"
   ]
  },
  {
   "cell_type": "code",
   "execution_count": 8,
   "id": "f5add96f",
   "metadata": {},
   "outputs": [],
   "source": [
    "_waveform = np.array(channel_data[7])\n",
    "\n",
    "baseline = waveform_processing.get_baseline_rough(_waveform, 50) \n",
    "std = waveform_processing.get_std_rough(_waveform, 50)\n",
    "pks = pulse_processing.find_pulses_simple(_waveform, baseline, std, 5)"
   ]
  },
  {
   "cell_type": "code",
   "execution_count": 9,
   "id": "270170c1",
   "metadata": {},
   "outputs": [],
   "source": [
    "pks = pulse_processing.find_pulses_simple(np.array(channel_data[0]), baseline, std, 2)"
   ]
  },
  {
   "cell_type": "code",
   "execution_count": 10,
   "id": "6d72e915",
   "metadata": {},
   "outputs": [
    {
     "name": "stdout",
     "output_type": "stream",
     "text": [
      "Computed baseline: 15490.0.\n",
      "Computed RMS: 12.043736961591282.\n",
      "Identified pulses: [array([0, 1]), array([3, 4, 5, 6]), array([10, 11]), array([34]), array([159, 160, 161]), array([247]), array([280, 281]), array([288]), array([305, 306, 307, 308, 309, 310, 311, 312, 313, 314, 315, 316, 317,\n",
      "       318, 319, 320, 321, 322, 323, 324, 325, 326, 327, 328, 329, 330,\n",
      "       331, 332, 333, 334, 335, 336, 337, 338, 339, 340, 341, 342, 343,\n",
      "       344, 345, 346, 347, 348, 349, 350, 351, 352, 353, 354, 355, 356,\n",
      "       357, 358, 359, 360, 361, 362, 363, 364, 365, 366, 367, 368, 369,\n",
      "       370, 371, 372, 373, 374, 375, 376, 377, 378, 379, 380, 381, 382,\n",
      "       383, 384, 385, 386, 387, 388, 389, 390, 391, 392, 393, 394, 395,\n",
      "       396, 397, 398, 399, 400, 401, 402, 403, 404, 405, 406, 407, 408,\n",
      "       409, 410, 411, 412, 413, 414, 415, 416, 417, 418, 419, 420, 421]), array([426, 427, 428]), array([433]), array([435, 436, 437, 438, 439, 440, 441, 442, 443, 444, 445, 446, 447,\n",
      "       448, 449, 450, 451, 452, 453, 454, 455, 456, 457, 458]), array([469]), array([473]), array([478, 479]), array([491]), array([557])]\n"
     ]
    }
   ],
   "source": [
    "_waveform = np.array(channel_data[0])\n",
    "print(f'Computed baseline: {baseline}.\\nComputed RMS: {std}.')\n",
    "print(f'Identified pulses: {pks}')"
   ]
  },
  {
   "cell_type": "code",
   "execution_count": 11,
   "id": "010fe8f9",
   "metadata": {},
   "outputs": [
    {
     "data": {
      "image/png": "[encoded data removed]",
      "text/plain": [
       "<Figure size 450x150 with 1 Axes>"
      ]
     },
     "metadata": {
      "needs_background": "light"
     },
     "output_type": "display_data"
    }
   ],
   "source": [
    "fig, ax = plt.subplots(1,1, figsize = (15,5), dpi = 30)\n",
    "ax = plot_pulses(_waveform, pks, ax = ax)\n",
    "plt.tight_layout()\n",
    "plt.show()"
   ]
  },
  {
   "cell_type": "code",
   "execution_count": 12,
   "id": "fec9c8d8",
   "metadata": {},
   "outputs": [
    {
     "name": "stdout",
     "output_type": "stream",
     "text": [
      "Computed areas: [2422780.   36570.   26910.   40890.]\n",
      "Computed amplitudes: [    0. 15154. 15207. 15112.]\n"
     ]
    }
   ],
   "source": [
    "areas, lengths, positions, amplitudes = waveform_processing.process_waveform(np.array(channel_data[7]), \n",
    "                                                                             process.baseline_samples, \n",
    "                                                                             process.sigma_level)\n",
    "print(f'Computed areas: {areas}\\nComputed amplitudes: {amplitudes}')"
   ]
  },
  {
   "cell_type": "markdown",
   "id": "f6d7a456",
   "metadata": {},
   "source": [
    "### Full channel"
   ]
  },
  {
   "cell_type": "code",
   "execution_count": 13,
   "id": "aacd7b6d",
   "metadata": {
    "scrolled": true
   },
   "outputs": [
    {
     "name": "stderr",
     "output_type": "stream",
     "text": [
      "Processing module 0 channel wf0: 100%|█████████████████████████████████████████████████████████████████████████████████████████████████████████████████████████████████████████████| 50000/50000 [00:04<00:00, 10596.81it/s]\n"
     ]
    }
   ],
   "source": [
    "results_ch0 = pd.DataFrame(process.process_channel('wf0'))"
   ]
  },
  {
   "cell_type": "code",
   "execution_count": 14,
   "id": "7d7b51f6",
   "metadata": {},
   "outputs": [
    {
     "data": {
      "text/html": [
       "<div>\n",
       "<style scoped>\n",
       "    .dataframe tbody tr th:only-of-type {\n",
       "        vertical-align: middle;\n",
       "    }\n",
       "\n",
       "    .dataframe tbody tr th {\n",
       "        vertical-align: top;\n",
       "    }\n",
       "\n",
       "    .dataframe thead th {\n",
       "        text-align: right;\n",
       "    }\n",
       "</style>\n",
       "<table border=\"1\" class=\"dataframe\">\n",
       "  <thead>\n",
       "    <tr style=\"text-align: right;\">\n",
       "      <th></th>\n",
       "      <th>module</th>\n",
       "      <th>channel</th>\n",
       "      <th>wf_number</th>\n",
       "      <th>pulse_number</th>\n",
       "      <th>area</th>\n",
       "      <th>length</th>\n",
       "      <th>position</th>\n",
       "      <th>amplitude</th>\n",
       "    </tr>\n",
       "  </thead>\n",
       "  <tbody>\n",
       "    <tr>\n",
       "      <th>0</th>\n",
       "      <td>0</td>\n",
       "      <td>wf0</td>\n",
       "      <td>0</td>\n",
       "      <td>0</td>\n",
       "      <td>2661080.0</td>\n",
       "      <td>85</td>\n",
       "      <td>305</td>\n",
       "      <td>0.0</td>\n",
       "    </tr>\n",
       "    <tr>\n",
       "      <th>1</th>\n",
       "      <td>0</td>\n",
       "      <td>wf0</td>\n",
       "      <td>0</td>\n",
       "      <td>1</td>\n",
       "      <td>0.0</td>\n",
       "      <td>1</td>\n",
       "      <td>394</td>\n",
       "      <td>15483.5</td>\n",
       "    </tr>\n",
       "    <tr>\n",
       "      <th>2</th>\n",
       "      <td>0</td>\n",
       "      <td>wf0</td>\n",
       "      <td>0</td>\n",
       "      <td>2</td>\n",
       "      <td>1880.0</td>\n",
       "      <td>3</td>\n",
       "      <td>397</td>\n",
       "      <td>15384.0</td>\n",
       "    </tr>\n",
       "    <tr>\n",
       "      <th>3</th>\n",
       "      <td>0</td>\n",
       "      <td>wf0</td>\n",
       "      <td>0</td>\n",
       "      <td>3</td>\n",
       "      <td>25350.0</td>\n",
       "      <td>15</td>\n",
       "      <td>436</td>\n",
       "      <td>15194.0</td>\n",
       "    </tr>\n",
       "    <tr>\n",
       "      <th>4</th>\n",
       "      <td>0</td>\n",
       "      <td>wf0</td>\n",
       "      <td>1</td>\n",
       "      <td>0</td>\n",
       "      <td>20910.0</td>\n",
       "      <td>13</td>\n",
       "      <td>142</td>\n",
       "      <td>15221.0</td>\n",
       "    </tr>\n",
       "  </tbody>\n",
       "</table>\n",
       "</div>"
      ],
      "text/plain": [
       "   module channel  wf_number  pulse_number       area  length  position  \\\n",
       "0       0     wf0          0             0  2661080.0      85       305   \n",
       "1       0     wf0          0             1        0.0       1       394   \n",
       "2       0     wf0          0             2     1880.0       3       397   \n",
       "3       0     wf0          0             3    25350.0      15       436   \n",
       "4       0     wf0          1             0    20910.0      13       142   \n",
       "\n",
       "   amplitude  \n",
       "0        0.0  \n",
       "1    15483.5  \n",
       "2    15384.0  \n",
       "3    15194.0  \n",
       "4    15221.0  "
      ]
     },
     "execution_count": 14,
     "metadata": {},
     "output_type": "execute_result"
    }
   ],
   "source": [
    "results_ch0.head()"
   ]
  },
  {
   "cell_type": "code",
   "execution_count": 15,
   "id": "6b328b51",
   "metadata": {},
   "outputs": [
    {
     "data": {
      "image/png": "[encoded data removed]",
      "text/plain": [
       "<Figure size 450x150 with 3 Axes>"
      ]
     },
     "metadata": {
      "needs_background": "light"
     },
     "output_type": "display_data"
    }
   ],
   "source": [
    "fig, axs = plt.subplots(1,3, figsize = (15,5), dpi = 30)\n",
    "plot_3hists(results_ch0, axs = axs)\n",
    "plt.tight_layout()\n",
    "plt.show()"
   ]
  },
  {
   "cell_type": "code",
   "execution_count": 16,
   "id": "3b8e0399",
   "metadata": {},
   "outputs": [
    {
     "data": {
      "image/png": "[encoded data removed]",
      "text/plain": [
       "<Figure size 300x150 with 1 Axes>"
      ]
     },
     "metadata": {
      "needs_background": "light"
     },
     "output_type": "display_data"
    }
   ],
   "source": [
    "fig, ax = plt.subplots(1,1, figsize = (10,5), dpi = 30)\n",
    "ax = plot_hist_area(results_ch0,ax = ax)\n",
    "\n",
    "ax.set_yscale('log')\n",
    "plt.show()"
   ]
  },
  {
   "cell_type": "code",
   "execution_count": 17,
   "id": "d8d80ffa",
   "metadata": {},
   "outputs": [
    {
     "data": {
      "image/png": "[encoded data removed]",
      "text/plain": [
       "<Figure size 300x150 with 1 Axes>"
      ]
     },
     "metadata": {
      "needs_background": "light"
     },
     "output_type": "display_data"
    }
   ],
   "source": [
    "## Is it a fingerplot of afterpulses on the left?\n",
    "cut_mask = ((results_ch0['length'] > 7) &\n",
    "            (results_ch0['length'] < 30) &\n",
    "            (results_ch0['area'] < 0.5e6)\n",
    "#             (results_ch0['position'] > 280) &\n",
    "#             (results_ch0['position'] < 400)\n",
    "           )\n",
    "\n",
    "fig, ax = plt.subplots(1,1, figsize = (10,5), dpi = 30)\n",
    "ax = plot_hist_area(results_ch0[cut_mask],ax = ax)\n",
    "\n",
    "ax.set_yscale('log')\n",
    "plt.show()"
   ]
  }
 ],
 "metadata": {
  "kernelspec": {
   "display_name": "Python 3 (ipykernel)",
   "language": "python",
   "name": "python3"
  },
  "language_info": {
   "codemirror_mode": {
    "name": "ipython",
    "version": 3
   },
   "file_extension": ".py",
   "mimetype": "text/x-python",
   "name": "python",
   "nbconvert_exporter": "python",
   "pygments_lexer": "ipython3",
   "version": "3.8.13"
  }
 },
 "nbformat": 4,
 "nbformat_minor": 5
}
