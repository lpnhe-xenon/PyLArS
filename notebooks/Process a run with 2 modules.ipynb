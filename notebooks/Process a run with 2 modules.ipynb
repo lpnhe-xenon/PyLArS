{
 "cells": [
  {
   "cell_type": "markdown",
   "id": "3ef01fe6",
   "metadata": {},
   "source": [
    "# Processing a a run (using >1 module)"
   ]
  },
  {
   "cell_type": "code",
   "execution_count": 1,
   "id": "49aadf02",
   "metadata": {},
   "outputs": [],
   "source": [
    "%load_ext autoreload\n",
    "%autoreload 2"
   ]
  },
  {
   "cell_type": "markdown",
   "id": "d2efeeb2",
   "metadata": {},
   "source": [
    "#### imports"
   ]
  },
  {
   "cell_type": "code",
   "execution_count": 2,
   "id": "432cb762",
   "metadata": {},
   "outputs": [],
   "source": [
    "import numpy as np\n",
    "import matplotlib.pyplot as plt\n",
    "\n",
    "import pylars\n",
    "from pylars.plotting.plotprocessed import *\n",
    "from pylars.plotting.plotwaveforms import *\n",
    "from pylars.processing.waveforms import waveform_processing\n",
    "from pylars.processing.pulses import pulse_processing\n",
    "from pylars.utils.input import *\n",
    "from pylars.utils.output import *"
   ]
  },
  {
   "cell_type": "markdown",
   "id": "cd29ba06",
   "metadata": {},
   "source": [
    "## Define and load the desired run"
   ]
  },
  {
   "cell_type": "code",
   "execution_count": 3,
   "id": "5110cb90",
   "metadata": {},
   "outputs": [],
   "source": [
    "base_run = run(run_number = 6, main_data_path='/disk/gfs_atp/xenoscope/SiPMs/char_campaign/raw_data/')"
   ]
  },
  {
   "cell_type": "code",
   "execution_count": 4,
   "id": "2288405c",
   "metadata": {},
   "outputs": [],
   "source": [
    "all_runs = base_run.get_run_df()"
   ]
  },
  {
   "cell_type": "code",
   "execution_count": 5,
   "id": "443145bb",
   "metadata": {},
   "outputs": [
    {
     "data": {
      "text/html": [
       "<div>\n",
       "<style scoped>\n",
       "    .dataframe tbody tr th:only-of-type {\n",
       "        vertical-align: middle;\n",
       "    }\n",
       "\n",
       "    .dataframe tbody tr th {\n",
       "        vertical-align: top;\n",
       "    }\n",
       "\n",
       "    .dataframe thead th {\n",
       "        text-align: right;\n",
       "    }\n",
       "</style>\n",
       "<table border=\"1\" class=\"dataframe\">\n",
       "  <thead>\n",
       "    <tr style=\"text-align: right;\">\n",
       "      <th></th>\n",
       "      <th>kind</th>\n",
       "      <th>module</th>\n",
       "      <th>temp</th>\n",
       "      <th>vbias</th>\n",
       "      <th>path</th>\n",
       "    </tr>\n",
       "  </thead>\n",
       "  <tbody>\n",
       "    <tr>\n",
       "      <th>0</th>\n",
       "      <td>BV</td>\n",
       "      <td>0</td>\n",
       "      <td>170.0</td>\n",
       "      <td>46.00</td>\n",
       "      <td>/disk/gfs_atp/xenoscope/SiPMs/char_campaign/ra...</td>\n",
       "    </tr>\n",
       "    <tr>\n",
       "      <th>1</th>\n",
       "      <td>BV</td>\n",
       "      <td>1</td>\n",
       "      <td>170.0</td>\n",
       "      <td>46.00</td>\n",
       "      <td>/disk/gfs_atp/xenoscope/SiPMs/char_campaign/ra...</td>\n",
       "    </tr>\n",
       "    <tr>\n",
       "      <th>2</th>\n",
       "      <td>BV</td>\n",
       "      <td>0</td>\n",
       "      <td>170.0</td>\n",
       "      <td>46.25</td>\n",
       "      <td>/disk/gfs_atp/xenoscope/SiPMs/char_campaign/ra...</td>\n",
       "    </tr>\n",
       "    <tr>\n",
       "      <th>3</th>\n",
       "      <td>BV</td>\n",
       "      <td>1</td>\n",
       "      <td>170.0</td>\n",
       "      <td>46.25</td>\n",
       "      <td>/disk/gfs_atp/xenoscope/SiPMs/char_campaign/ra...</td>\n",
       "    </tr>\n",
       "    <tr>\n",
       "      <th>4</th>\n",
       "      <td>BV</td>\n",
       "      <td>0</td>\n",
       "      <td>170.0</td>\n",
       "      <td>46.50</td>\n",
       "      <td>/disk/gfs_atp/xenoscope/SiPMs/char_campaign/ra...</td>\n",
       "    </tr>\n",
       "  </tbody>\n",
       "</table>\n",
       "</div>"
      ],
      "text/plain": [
       "  kind  module   temp  vbias  \\\n",
       "0   BV       0  170.0  46.00   \n",
       "1   BV       1  170.0  46.00   \n",
       "2   BV       0  170.0  46.25   \n",
       "3   BV       1  170.0  46.25   \n",
       "4   BV       0  170.0  46.50   \n",
       "\n",
       "                                                path  \n",
       "0  /disk/gfs_atp/xenoscope/SiPMs/char_campaign/ra...  \n",
       "1  /disk/gfs_atp/xenoscope/SiPMs/char_campaign/ra...  \n",
       "2  /disk/gfs_atp/xenoscope/SiPMs/char_campaign/ra...  \n",
       "3  /disk/gfs_atp/xenoscope/SiPMs/char_campaign/ra...  \n",
       "4  /disk/gfs_atp/xenoscope/SiPMs/char_campaign/ra...  "
      ]
     },
     "execution_count": 5,
     "metadata": {},
     "output_type": "execute_result"
    }
   ],
   "source": [
    "all_runs.head()"
   ]
  },
  {
   "cell_type": "markdown",
   "id": "afd40ff4",
   "metadata": {},
   "source": [
    "## Define and load processor"
   ]
  },
  {
   "cell_type": "code",
   "execution_count": 6,
   "id": "44e063c4",
   "metadata": {},
   "outputs": [],
   "source": [
    "process = pylars.processing.rawprocessor.run_processor(base_run, 'simple', sigma_level=5, baseline_samples=50)"
   ]
  },
  {
   "cell_type": "code",
   "execution_count": 7,
   "id": "628240cf",
   "metadata": {},
   "outputs": [
    {
     "name": "stdout",
     "output_type": "stream",
     "text": [
      "show bar channel:True\n",
      "show tqdm channel:True\n",
      "show bar run:True\n",
      "show tqdm run:True\n",
      "\n",
      "show bar channel:True\n",
      "show tqdm channel:True\n",
      "show bar run:False\n",
      "show tqdm run:False\n"
     ]
    }
   ],
   "source": [
    "#For processing full runs tqdm per channels comes off by default\n",
    "process.print_tqdm_options()\n",
    "print('')\n",
    "process.set_tqdm_channel(bar=True, show=True)\n",
    "process.set_tqdm_run(bar=False, show=False)\n",
    "process.print_tqdm_options()"
   ]
  },
  {
   "cell_type": "code",
   "execution_count": 8,
   "id": "727aea37",
   "metadata": {},
   "outputs": [
    {
     "name": "stdout",
     "output_type": "stream",
     "text": [
      "Found 2 datasets. Ramping up processor!\n"
     ]
    },
    {
     "name": "stderr",
     "output_type": "stream",
     "text": [
      "Processing module 0 channel wf0: 100%|██████████████████████████████████████████████████████████████████████████████████████████████████████████████████████████████████████████████| 50000/50000 [00:06<00:00, 7607.68it/s]\n",
      "Processing module 0 channel wf2: 100%|█████████████████████████████████████████████████████████████████████████████████████████████████████████████████████████████████████████████| 50000/50000 [00:03<00:00, 12860.48it/s]\n",
      "Processing module 0 channel wf3: 100%|█████████████████████████████████████████████████████████████████████████████████████████████████████████████████████████████████████████████| 50000/50000 [00:04<00:00, 11409.95it/s]\n",
      "Processing module 0 channel wf4: 100%|█████████████████████████████████████████████████████████████████████████████████████████████████████████████████████████████████████████████| 50000/50000 [00:04<00:00, 11499.65it/s]\n",
      "Processing module 0 channel wf5: 100%|█████████████████████████████████████████████████████████████████████████████████████████████████████████████████████████████████████████████| 50000/50000 [00:04<00:00, 10624.17it/s]\n",
      "Processing module 0 channel wf6: 100%|█████████████████████████████████████████████████████████████████████████████████████████████████████████████████████████████████████████████| 50000/50000 [00:04<00:00, 11198.51it/s]\n",
      "Processing module 1 channel wf0: 100%|█████████████████████████████████████████████████████████████████████████████████████████████████████████████████████████████████████████████| 50000/50000 [00:03<00:00, 14535.60it/s]\n",
      "Processing module 1 channel wf1: 100%|█████████████████████████████████████████████████████████████████████████████████████████████████████████████████████████████████████████████| 50000/50000 [00:04<00:00, 11783.32it/s]\n",
      "Processing module 1 channel wf2: 100%|█████████████████████████████████████████████████████████████████████████████████████████████████████████████████████████████████████████████| 50000/50000 [00:04<00:00, 11423.90it/s]\n",
      "Processing module 1 channel wf3: 100%|█████████████████████████████████████████████████████████████████████████████████████████████████████████████████████████████████████████████| 50000/50000 [00:03<00:00, 13460.86it/s]\n",
      "Processing module 1 channel wf4: 100%|█████████████████████████████████████████████████████████████████████████████████████████████████████████████████████████████████████████████| 50000/50000 [00:04<00:00, 10380.08it/s]\n",
      "Processing module 1 channel wf6: 100%|█████████████████████████████████████████████████████████████████████████████████████████████████████████████████████████████████████████████| 50000/50000 [00:04<00:00, 10983.86it/s]\n"
     ]
    }
   ],
   "source": [
    "data = process.process_datasets(kind='BV', vbias=50.75, temp = 170)"
   ]
  },
  {
   "cell_type": "markdown",
   "id": "67894cbe",
   "metadata": {},
   "source": [
    "#### #Done"
   ]
  },
  {
   "cell_type": "code",
   "execution_count": 9,
   "id": "6e0daf10",
   "metadata": {},
   "outputs": [
    {
     "data": {
      "text/html": [
       "<div>\n",
       "<style scoped>\n",
       "    .dataframe tbody tr th:only-of-type {\n",
       "        vertical-align: middle;\n",
       "    }\n",
       "\n",
       "    .dataframe tbody tr th {\n",
       "        vertical-align: top;\n",
       "    }\n",
       "\n",
       "    .dataframe thead th {\n",
       "        text-align: right;\n",
       "    }\n",
       "</style>\n",
       "<table border=\"1\" class=\"dataframe\">\n",
       "  <thead>\n",
       "    <tr style=\"text-align: right;\">\n",
       "      <th></th>\n",
       "      <th>module</th>\n",
       "      <th>channel</th>\n",
       "      <th>wf_number</th>\n",
       "      <th>pulse_number</th>\n",
       "      <th>area</th>\n",
       "      <th>length</th>\n",
       "      <th>position</th>\n",
       "      <th>amplitude</th>\n",
       "    </tr>\n",
       "  </thead>\n",
       "  <tbody>\n",
       "    <tr>\n",
       "      <th>0</th>\n",
       "      <td>0</td>\n",
       "      <td>wf0</td>\n",
       "      <td>0</td>\n",
       "      <td>0</td>\n",
       "      <td>1528060.0</td>\n",
       "      <td>73</td>\n",
       "      <td>304</td>\n",
       "      <td>2567.0</td>\n",
       "    </tr>\n",
       "    <tr>\n",
       "      <th>1</th>\n",
       "      <td>0</td>\n",
       "      <td>wf0</td>\n",
       "      <td>0</td>\n",
       "      <td>1</td>\n",
       "      <td>0.0</td>\n",
       "      <td>1</td>\n",
       "      <td>380</td>\n",
       "      <td>15484.5</td>\n",
       "    </tr>\n",
       "    <tr>\n",
       "      <th>2</th>\n",
       "      <td>0</td>\n",
       "      <td>wf0</td>\n",
       "      <td>0</td>\n",
       "      <td>2</td>\n",
       "      <td>42685.0</td>\n",
       "      <td>22</td>\n",
       "      <td>385</td>\n",
       "      <td>15096.0</td>\n",
       "    </tr>\n",
       "    <tr>\n",
       "      <th>3</th>\n",
       "      <td>0</td>\n",
       "      <td>wf0</td>\n",
       "      <td>1</td>\n",
       "      <td>0</td>\n",
       "      <td>1963175.0</td>\n",
       "      <td>96</td>\n",
       "      <td>306</td>\n",
       "      <td>1517.0</td>\n",
       "    </tr>\n",
       "    <tr>\n",
       "      <th>4</th>\n",
       "      <td>0</td>\n",
       "      <td>wf0</td>\n",
       "      <td>1</td>\n",
       "      <td>1</td>\n",
       "      <td>0.0</td>\n",
       "      <td>1</td>\n",
       "      <td>403</td>\n",
       "      <td>15487.5</td>\n",
       "    </tr>\n",
       "  </tbody>\n",
       "</table>\n",
       "</div>"
      ],
      "text/plain": [
       "   module channel  wf_number  pulse_number       area  length  position  \\\n",
       "0       0     wf0          0             0  1528060.0      73       304   \n",
       "1       0     wf0          0             1        0.0       1       380   \n",
       "2       0     wf0          0             2    42685.0      22       385   \n",
       "3       0     wf0          1             0  1963175.0      96       306   \n",
       "4       0     wf0          1             1        0.0       1       403   \n",
       "\n",
       "   amplitude  \n",
       "0     2567.0  \n",
       "1    15484.5  \n",
       "2    15096.0  \n",
       "3     1517.0  \n",
       "4    15487.5  "
      ]
     },
     "execution_count": 9,
     "metadata": {},
     "output_type": "execute_result"
    }
   ],
   "source": [
    "data.head()"
   ]
  },
  {
   "cell_type": "markdown",
   "id": "5fc0bd79",
   "metadata": {},
   "source": [
    "## Make some plots"
   ]
  },
  {
   "cell_type": "code",
   "execution_count": 10,
   "id": "8b51d73e",
   "metadata": {},
   "outputs": [],
   "source": [
    "mod0_ch0 = data[(data['channel']=='wf0') &\n",
    "                (data['module']==0)]"
   ]
  },
  {
   "cell_type": "code",
   "execution_count": 11,
   "id": "d72d1b75",
   "metadata": {},
   "outputs": [
    {
     "data": {
      "image/png": "[encoded data removed]",
      "text/plain": [
       "<Figure size 480x150 with 3 Axes>"
      ]
     },
     "metadata": {
      "needs_background": "light"
     },
     "output_type": "display_data"
    }
   ],
   "source": [
    "fig, axs = plt.subplots(1,3,figsize=(16,5), dpi = 30)\n",
    "axs = plot_3hists(mod0_ch0, axs = axs)\n",
    "axs[0].set_yscale('log')\n",
    "plt.tight_layout()\n",
    "plt.show()"
   ]
  },
  {
   "cell_type": "markdown",
   "id": "e0af822e",
   "metadata": {},
   "source": [
    "#### Just LED signal"
   ]
  },
  {
   "cell_type": "code",
   "execution_count": 12,
   "id": "f9282af6",
   "metadata": {},
   "outputs": [],
   "source": [
    "cut_mask = ((mod0_ch0['position'] > 300) &\n",
    "            (mod0_ch0['position'] < 350) &\n",
    "            (mod0_ch0['length'] > 20))"
   ]
  },
  {
   "cell_type": "code",
   "execution_count": 30,
   "id": "d0f4eaa0",
   "metadata": {},
   "outputs": [
    {
     "data": {
      "image/png": "[encoded data removed]",
      "text/plain": [
       "<Figure size 480x150 with 3 Axes>"
      ]
     },
     "metadata": {
      "needs_background": "light"
     },
     "output_type": "display_data"
    }
   ],
   "source": [
    "fig, axs = plt.subplots(1,3,figsize=(16,5), dpi = 30)\n",
    "axs = plot_3hists(mod0_ch0[cut_mask], axs = axs)\n",
    "axs[0].set_yscale('log')\n",
    "plt.tight_layout()\n",
    "plt.show()"
   ]
  },
  {
   "cell_type": "markdown",
   "id": "eb57dca8",
   "metadata": {},
   "source": [
    "#### Just to the rigth of the LED pulse"
   ]
  },
  {
   "cell_type": "code",
   "execution_count": 14,
   "id": "7a59c493",
   "metadata": {},
   "outputs": [],
   "source": [
    "cut_mask = ((mod0_ch0['position'] > 350))"
   ]
  },
  {
   "cell_type": "code",
   "execution_count": 15,
   "id": "fecccf3e",
   "metadata": {},
   "outputs": [
    {
     "data": {
      "image/png": "[encoded data removed]",
      "text/plain": [
       "<Figure size 480x150 with 3 Axes>"
      ]
     },
     "metadata": {
      "needs_background": "light"
     },
     "output_type": "display_data"
    }
   ],
   "source": [
    "fig, axs = plt.subplots(1,3,figsize=(16,5), dpi = 30)\n",
    "axs = plot_3hists(mod0_ch0[cut_mask], axs = axs)\n",
    "axs[0].set_yscale('log')\n",
    "plt.tight_layout()\n",
    "plt.show()"
   ]
  },
  {
   "cell_type": "code",
   "execution_count": 16,
   "id": "6832b862",
   "metadata": {},
   "outputs": [],
   "source": [
    "cut_mask = ((mod0_ch0['position'] > 350) &\n",
    "            (mod0_ch0['length'] > 10))"
   ]
  },
  {
   "cell_type": "code",
   "execution_count": 17,
   "id": "6dc5fc5b",
   "metadata": {},
   "outputs": [
    {
     "data": {
      "image/png": "[encoded data removed]",
      "text/plain": [
       "<Figure size 480x150 with 3 Axes>"
      ]
     },
     "metadata": {
      "needs_background": "light"
     },
     "output_type": "display_data"
    }
   ],
   "source": [
    "fig, axs = plt.subplots(1,3,figsize=(16,5), dpi = 30)\n",
    "axs = plot_3hists(mod0_ch0[cut_mask], axs = axs)\n",
    "axs[0].set_yscale('log')\n",
    "plt.tight_layout()\n",
    "plt.show()"
   ]
  },
  {
   "cell_type": "markdown",
   "id": "46d8564c",
   "metadata": {},
   "source": [
    "These are very likely afterpulses! Nice! "
   ]
  },
  {
   "cell_type": "markdown",
   "id": "7df631e0",
   "metadata": {},
   "source": [
    "## Save the processed data using its own class"
   ]
  },
  {
   "cell_type": "code",
   "execution_count": 18,
   "id": "cf5da8e5",
   "metadata": {},
   "outputs": [],
   "source": [
    "processed_data = processed_dataset(run = base_run,\n",
    "                                   kind = 'BV',\n",
    "                                   vbias = 50.75, \n",
    "                                   temp = 170, \n",
    "                                   path_processed = './',\n",
    "                                   process_hash= process.hash)"
   ]
  },
  {
   "cell_type": "code",
   "execution_count": 19,
   "id": "ffa1327b",
   "metadata": {},
   "outputs": [
    {
     "data": {
      "text/plain": [
       "{'run': Run 6,\n",
       " 'kind': 'BV',\n",
       " 'vbias': 50.75,\n",
       " 'temp': 170,\n",
       " 'process_hash': 'qm7qo2b',\n",
       " 'path_processed': './',\n",
       " 'hash': '1097931495133614094'}"
      ]
     },
     "execution_count": 19,
     "metadata": {},
     "output_type": "execute_result"
    }
   ],
   "source": [
    "processed_data.__dict__"
   ]
  },
  {
   "cell_type": "code",
   "execution_count": 20,
   "id": "005cff79",
   "metadata": {},
   "outputs": [],
   "source": [
    "processed_data.load_data(force = True)"
   ]
  },
  {
   "cell_type": "code",
   "execution_count": null,
   "id": "592eed6c",
   "metadata": {},
   "outputs": [],
   "source": [
    "!mkdir run6"
   ]
  },
  {
   "cell_type": "code",
   "execution_count": 23,
   "id": "43069c95",
   "metadata": {},
   "outputs": [
    {
     "name": "stdout",
     "output_type": "stream",
     "text": [
      "Saved file to: ./run6/BV_170.00_50.75-qm7qo2b.h5\n"
     ]
    }
   ],
   "source": [
    "processed_data.save_data()"
   ]
  },
  {
   "cell_type": "code",
   "execution_count": 24,
   "id": "e5750eb3",
   "metadata": {},
   "outputs": [
    {
     "data": {
      "text/plain": [
       "module                  0\n",
       "channel               wf0\n",
       "wf_number             283\n",
       "pulse_number            0\n",
       "area            1582725.0\n",
       "length                 72\n",
       "position              304\n",
       "amplitude          3552.0\n",
       "Name: 1234, dtype: object"
      ]
     },
     "execution_count": 24,
     "metadata": {},
     "output_type": "execute_result"
    }
   ],
   "source": [
    "processed_data.data.iloc[1234]"
   ]
  },
  {
   "cell_type": "markdown",
   "id": "e402688f",
   "metadata": {},
   "source": [
    "### Delete and load from cache"
   ]
  },
  {
   "cell_type": "code",
   "execution_count": 25,
   "id": "2805cd16",
   "metadata": {},
   "outputs": [],
   "source": [
    "del processed_data, data"
   ]
  },
  {
   "cell_type": "code",
   "execution_count": 26,
   "id": "09f1f793",
   "metadata": {},
   "outputs": [],
   "source": [
    "processed_data = processed_dataset(run = base_run,\n",
    "                                   kind = 'BV',\n",
    "                                   vbias = 50.75, \n",
    "                                   temp = 170, \n",
    "                                   path_processed = './',\n",
    "                                   process_hash= process.hash)"
   ]
  },
  {
   "cell_type": "code",
   "execution_count": 27,
   "id": "75076886",
   "metadata": {},
   "outputs": [],
   "source": [
    "processed_data.load_data()"
   ]
  },
  {
   "cell_type": "code",
   "execution_count": 28,
   "id": "7c0d0d49",
   "metadata": {},
   "outputs": [
    {
     "data": {
      "text/plain": [
       "module                  0\n",
       "channel               wf0\n",
       "wf_number             283\n",
       "pulse_number            0\n",
       "area            1582725.0\n",
       "length                 72\n",
       "position              304\n",
       "amplitude          3552.0\n",
       "Name: 1234, dtype: object"
      ]
     },
     "execution_count": 28,
     "metadata": {},
     "output_type": "execute_result"
    }
   ],
   "source": [
    "processed_data.data.iloc[1234]"
   ]
  },
  {
   "cell_type": "code",
   "execution_count": null,
   "id": "dc03a645",
   "metadata": {},
   "outputs": [],
   "source": []
  }
 ],
 "metadata": {
  "kernelspec": {
   "display_name": "Python 3 (ipykernel)",
   "language": "python",
   "name": "python3"
  },
  "language_info": {
   "codemirror_mode": {
    "name": "ipython",
    "version": 3
   },
   "file_extension": ".py",
   "mimetype": "text/x-python",
   "name": "python",
   "nbconvert_exporter": "python",
   "pygments_lexer": "ipython3",
   "version": "3.8.13"
  }
 },
 "nbformat": 4,
 "nbformat_minor": 5
}
