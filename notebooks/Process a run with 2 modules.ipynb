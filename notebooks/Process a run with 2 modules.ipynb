{
 "cells": [
  {
   "cell_type": "markdown",
   "id": "3ef01fe6",
   "metadata": {},
   "source": [
    "# Processing a a run (using >1 module)"
   ]
  },
  {
   "cell_type": "code",
   "execution_count": 1,
   "id": "49aadf02",
   "metadata": {},
   "outputs": [],
   "source": [
    "%load_ext autoreload\n",
    "%autoreload 2s"
   ]
  },
  {
   "cell_type": "markdown",
   "id": "d2efeeb2",
   "metadata": {},
   "source": [
    "#### imports"
   ]
  },
  {
   "cell_type": "code",
   "execution_count": 48,
   "id": "432cb762",
   "metadata": {},
   "outputs": [],
   "source": [
    "import numpy as np\n",
    "import matplotlib.pyplot as plt\n",
    "import glob\n",
    "\n",
    "import sys\n",
    "sys.path.append('../')\n",
    "\n",
    "import pylars\n",
    "from pylars.plotting.plotprocessed import *\n",
    "from pylars.plotting.plotwaveforms import *\n",
    "from pylars.processing.waveforms import waveform_processing\n",
    "from pylars.processing.peaks import peak_processing\n",
    "from pylars.utils import *\n",
    "\n",
    "# glob.glob to search the path -> returns list\n",
    "# glob.iglob to search the path -> returns iterator"
   ]
  },
  {
   "cell_type": "markdown",
   "id": "cd29ba06",
   "metadata": {},
   "source": [
    "## Define and load the desired run"
   ]
  },
  {
   "cell_type": "code",
   "execution_count": 5,
   "id": "5110cb90",
   "metadata": {},
   "outputs": [],
   "source": [
    "base_run = run(run_number = 6, main_data_path='/disk/gfs_atp/xenoscope/SiPMs/char_campaign/raw_data/')"
   ]
  },
  {
   "cell_type": "code",
   "execution_count": 6,
   "id": "2288405c",
   "metadata": {},
   "outputs": [],
   "source": [
    "all_runs = base_run.get_run_df()"
   ]
  },
  {
   "cell_type": "code",
   "execution_count": 7,
   "id": "443145bb",
   "metadata": {},
   "outputs": [
    {
     "data": {
      "text/html": [
       "<div>\n",
       "<style scoped>\n",
       "    .dataframe tbody tr th:only-of-type {\n",
       "        vertical-align: middle;\n",
       "    }\n",
       "\n",
       "    .dataframe tbody tr th {\n",
       "        vertical-align: top;\n",
       "    }\n",
       "\n",
       "    .dataframe thead th {\n",
       "        text-align: right;\n",
       "    }\n",
       "</style>\n",
       "<table border=\"1\" class=\"dataframe\">\n",
       "  <thead>\n",
       "    <tr style=\"text-align: right;\">\n",
       "      <th></th>\n",
       "      <th>kind</th>\n",
       "      <th>module</th>\n",
       "      <th>temp</th>\n",
       "      <th>vbias</th>\n",
       "      <th>path</th>\n",
       "    </tr>\n",
       "  </thead>\n",
       "  <tbody>\n",
       "    <tr>\n",
       "      <th>0</th>\n",
       "      <td>BV</td>\n",
       "      <td>1</td>\n",
       "      <td>175.0</td>\n",
       "      <td>46.00</td>\n",
       "      <td>/disk/gfs_atp/xenoscope/SiPMs/char_campaign/ra...</td>\n",
       "    </tr>\n",
       "    <tr>\n",
       "      <th>1</th>\n",
       "      <td>BV</td>\n",
       "      <td>0</td>\n",
       "      <td>175.0</td>\n",
       "      <td>46.00</td>\n",
       "      <td>/disk/gfs_atp/xenoscope/SiPMs/char_campaign/ra...</td>\n",
       "    </tr>\n",
       "    <tr>\n",
       "      <th>2</th>\n",
       "      <td>BV</td>\n",
       "      <td>0</td>\n",
       "      <td>170.0</td>\n",
       "      <td>46.75</td>\n",
       "      <td>/disk/gfs_atp/xenoscope/SiPMs/char_campaign/ra...</td>\n",
       "    </tr>\n",
       "    <tr>\n",
       "      <th>3</th>\n",
       "      <td>BV</td>\n",
       "      <td>1</td>\n",
       "      <td>170.0</td>\n",
       "      <td>46.75</td>\n",
       "      <td>/disk/gfs_atp/xenoscope/SiPMs/char_campaign/ra...</td>\n",
       "    </tr>\n",
       "    <tr>\n",
       "      <th>4</th>\n",
       "      <td>BV</td>\n",
       "      <td>1</td>\n",
       "      <td>170.0</td>\n",
       "      <td>50.75</td>\n",
       "      <td>/disk/gfs_atp/xenoscope/SiPMs/char_campaign/ra...</td>\n",
       "    </tr>\n",
       "  </tbody>\n",
       "</table>\n",
       "</div>"
      ],
      "text/plain": [
       "  kind  module   temp  vbias  \\\n",
       "0   BV       1  175.0  46.00   \n",
       "1   BV       0  175.0  46.00   \n",
       "2   BV       0  170.0  46.75   \n",
       "3   BV       1  170.0  46.75   \n",
       "4   BV       1  170.0  50.75   \n",
       "\n",
       "                                                path  \n",
       "0  /disk/gfs_atp/xenoscope/SiPMs/char_campaign/ra...  \n",
       "1  /disk/gfs_atp/xenoscope/SiPMs/char_campaign/ra...  \n",
       "2  /disk/gfs_atp/xenoscope/SiPMs/char_campaign/ra...  \n",
       "3  /disk/gfs_atp/xenoscope/SiPMs/char_campaign/ra...  \n",
       "4  /disk/gfs_atp/xenoscope/SiPMs/char_campaign/ra...  "
      ]
     },
     "execution_count": 7,
     "metadata": {},
     "output_type": "execute_result"
    }
   ],
   "source": [
    "all_runs.head()"
   ]
  },
  {
   "cell_type": "markdown",
   "id": "afd40ff4",
   "metadata": {},
   "source": [
    "## Define and load processor"
   ]
  },
  {
   "cell_type": "code",
   "execution_count": 11,
   "id": "44e063c4",
   "metadata": {},
   "outputs": [],
   "source": [
    "process = pylars.processing.run_processor(base_run, 'simple', sigma_level=5, baseline_samples=50)"
   ]
  },
  {
   "cell_type": "code",
   "execution_count": 12,
   "id": "628240cf",
   "metadata": {},
   "outputs": [
    {
     "name": "stdout",
     "output_type": "stream",
     "text": [
      "show bar channel:False\n",
      "show tqdm channel:False\n",
      "show bar run:True\n",
      "show tqdm run:True\n",
      "show bar channel:True\n",
      "show tqdm channel:True\n",
      "show bar run:False\n",
      "show tqdm run:False\n"
     ]
    }
   ],
   "source": [
    "#For processing full runs tqdm per channels comes off by default\n",
    "process.print_tqdm_options()\n",
    "process.set_tqdm_channel(bar=True, show=True)\n",
    "process.set_tqdm_run(bar=False, show=False)\n",
    "process.print_tqdm_options()"
   ]
  },
  {
   "cell_type": "code",
   "execution_count": 14,
   "id": "727aea37",
   "metadata": {},
   "outputs": [
    {
     "name": "stdout",
     "output_type": "stream",
     "text": [
      "Found 2 datasets. Ramping up processor!\n"
     ]
    },
    {
     "name": "stderr",
     "output_type": "stream",
     "text": [
      "Processing module 1 channel wf0: 100%|█████████████████████████| 50000/50000 [00:06<00:00, 8132.63it/s]\n",
      "Processing module 1 channel wf1: 100%|████████████████████████| 50000/50000 [00:04<00:00, 10968.26it/s]\n",
      "Processing module 1 channel wf2: 100%|████████████████████████| 50000/50000 [00:04<00:00, 11389.25it/s]\n",
      "Processing module 1 channel wf3: 100%|████████████████████████| 50000/50000 [00:03<00:00, 12876.91it/s]\n",
      "Processing module 1 channel wf4: 100%|████████████████████████| 50000/50000 [00:04<00:00, 10606.94it/s]\n",
      "Processing module 1 channel wf6: 100%|████████████████████████| 50000/50000 [00:04<00:00, 10898.91it/s]\n",
      "Processing module 0 channel wf0: 100%|████████████████████████| 50000/50000 [00:04<00:00, 10346.85it/s]\n",
      "Processing module 0 channel wf2: 100%|████████████████████████| 50000/50000 [00:03<00:00, 12553.39it/s]\n",
      "Processing module 0 channel wf3: 100%|████████████████████████| 50000/50000 [00:04<00:00, 11695.76it/s]\n",
      "Processing module 0 channel wf4: 100%|████████████████████████| 50000/50000 [00:04<00:00, 11601.70it/s]\n",
      "Processing module 0 channel wf5: 100%|█████████████████████████| 50000/50000 [00:05<00:00, 9930.18it/s]\n",
      "Processing module 0 channel wf6: 100%|█████████████████████████| 50000/50000 [00:05<00:00, 9823.80it/s]\n"
     ]
    }
   ],
   "source": [
    "data = process.process_datasets(kind='BV', vbias=50.75, temp = 170)"
   ]
  },
  {
   "cell_type": "markdown",
   "id": "67894cbe",
   "metadata": {},
   "source": [
    "#### #Done"
   ]
  },
  {
   "cell_type": "code",
   "execution_count": 15,
   "id": "6e0daf10",
   "metadata": {},
   "outputs": [
    {
     "data": {
      "text/html": [
       "<div>\n",
       "<style scoped>\n",
       "    .dataframe tbody tr th:only-of-type {\n",
       "        vertical-align: middle;\n",
       "    }\n",
       "\n",
       "    .dataframe tbody tr th {\n",
       "        vertical-align: top;\n",
       "    }\n",
       "\n",
       "    .dataframe thead th {\n",
       "        text-align: right;\n",
       "    }\n",
       "</style>\n",
       "<table border=\"1\" class=\"dataframe\">\n",
       "  <thead>\n",
       "    <tr style=\"text-align: right;\">\n",
       "      <th></th>\n",
       "      <th>module</th>\n",
       "      <th>channel</th>\n",
       "      <th>wf_number</th>\n",
       "      <th>peak_number</th>\n",
       "      <th>area</th>\n",
       "      <th>length</th>\n",
       "      <th>position</th>\n",
       "    </tr>\n",
       "  </thead>\n",
       "  <tbody>\n",
       "    <tr>\n",
       "      <th>0</th>\n",
       "      <td>1</td>\n",
       "      <td>wf0</td>\n",
       "      <td>1</td>\n",
       "      <td>0</td>\n",
       "      <td>0.0</td>\n",
       "      <td>1</td>\n",
       "      <td>157</td>\n",
       "    </tr>\n",
       "    <tr>\n",
       "      <th>1</th>\n",
       "      <td>1</td>\n",
       "      <td>wf0</td>\n",
       "      <td>1</td>\n",
       "      <td>1</td>\n",
       "      <td>0.0</td>\n",
       "      <td>1</td>\n",
       "      <td>286</td>\n",
       "    </tr>\n",
       "    <tr>\n",
       "      <th>2</th>\n",
       "      <td>1</td>\n",
       "      <td>wf0</td>\n",
       "      <td>1</td>\n",
       "      <td>2</td>\n",
       "      <td>0.0</td>\n",
       "      <td>1</td>\n",
       "      <td>291</td>\n",
       "    </tr>\n",
       "    <tr>\n",
       "      <th>3</th>\n",
       "      <td>1</td>\n",
       "      <td>wf0</td>\n",
       "      <td>1</td>\n",
       "      <td>3</td>\n",
       "      <td>0.0</td>\n",
       "      <td>1</td>\n",
       "      <td>299</td>\n",
       "    </tr>\n",
       "    <tr>\n",
       "      <th>4</th>\n",
       "      <td>1</td>\n",
       "      <td>wf0</td>\n",
       "      <td>1</td>\n",
       "      <td>4</td>\n",
       "      <td>80.0</td>\n",
       "      <td>2</td>\n",
       "      <td>301</td>\n",
       "    </tr>\n",
       "  </tbody>\n",
       "</table>\n",
       "</div>"
      ],
      "text/plain": [
       "   module channel  wf_number  peak_number  area  length  position\n",
       "0       1     wf0          1            0   0.0       1       157\n",
       "1       1     wf0          1            1   0.0       1       286\n",
       "2       1     wf0          1            2   0.0       1       291\n",
       "3       1     wf0          1            3   0.0       1       299\n",
       "4       1     wf0          1            4  80.0       2       301"
      ]
     },
     "execution_count": 15,
     "metadata": {},
     "output_type": "execute_result"
    }
   ],
   "source": [
    "data.head()"
   ]
  },
  {
   "cell_type": "markdown",
   "id": "5fc0bd79",
   "metadata": {},
   "source": [
    "## Make some plots"
   ]
  },
  {
   "cell_type": "code",
   "execution_count": 16,
   "id": "8b51d73e",
   "metadata": {},
   "outputs": [],
   "source": [
    "mod0_ch0 = data[(data['channel']=='wf0') &\n",
    "                (data['module']==0)]"
   ]
  },
  {
   "cell_type": "code",
   "execution_count": 18,
   "id": "d72d1b75",
   "metadata": {},
   "outputs": [
    {
     "data": {
      "image/png": "[encoded data removed]",
      "text/plain": [
       "<Figure size 1152x360 with 3 Axes>"
      ]
     },
     "metadata": {
      "needs_background": "light"
     },
     "output_type": "display_data"
    }
   ],
   "source": [
    "fig, axs = plt.subplots(1,3,figsize=(16,5))\n",
    "axs = plot_3hists(mod0_ch0, axs = axs)\n",
    "axs[0].set_yscale('log')\n",
    "plt.tight_layout()\n",
    "plt.show()"
   ]
  },
  {
   "cell_type": "markdown",
   "id": "e0af822e",
   "metadata": {},
   "source": [
    "#### Just LED signal"
   ]
  },
  {
   "cell_type": "code",
   "execution_count": 25,
   "id": "f9282af6",
   "metadata": {},
   "outputs": [],
   "source": [
    "cut_mask = ((mod0_ch0['position'] > 300) &\n",
    "            (mod0_ch0['position'] < 350) &\n",
    "            (mod0_ch0['length'] > 20))"
   ]
  },
  {
   "cell_type": "code",
   "execution_count": 26,
   "id": "d0f4eaa0",
   "metadata": {},
   "outputs": [
    {
     "data": {
      "image/png": "[encoded data removed]",
      "text/plain": [
       "<Figure size 1152x360 with 3 Axes>"
      ]
     },
     "metadata": {
      "needs_background": "light"
     },
     "output_type": "display_data"
    }
   ],
   "source": [
    "fig, axs = plt.subplots(1,3,figsize=(16,5))\n",
    "axs = plot_3hists(mod0_ch0[cut_mask], axs = axs)\n",
    "axs[0].set_yscale('log')\n",
    "plt.tight_layout()\n",
    "plt.show()"
   ]
  },
  {
   "cell_type": "markdown",
   "id": "eb57dca8",
   "metadata": {},
   "source": [
    "#### Just to the rigth of the LED peak"
   ]
  },
  {
   "cell_type": "code",
   "execution_count": 27,
   "id": "7a59c493",
   "metadata": {},
   "outputs": [],
   "source": [
    "cut_mask = ((mod0_ch0['position'] > 350))"
   ]
  },
  {
   "cell_type": "code",
   "execution_count": 28,
   "id": "fecccf3e",
   "metadata": {},
   "outputs": [
    {
     "data": {
      "image/png": "[encoded data removed]",
      "text/plain": [
       "<Figure size 1152x360 with 3 Axes>"
      ]
     },
     "metadata": {
      "needs_background": "light"
     },
     "output_type": "display_data"
    }
   ],
   "source": [
    "fig, axs = plt.subplots(1,3,figsize=(16,5))\n",
    "axs = plot_3hists(mod0_ch0[cut_mask], axs = axs)\n",
    "axs[0].set_yscale('log')\n",
    "plt.tight_layout()\n",
    "plt.show()"
   ]
  },
  {
   "cell_type": "code",
   "execution_count": 29,
   "id": "6832b862",
   "metadata": {},
   "outputs": [],
   "source": [
    "cut_mask = ((mod0_ch0['position'] > 350) &\n",
    "            (mod0_ch0['length'] > 10))"
   ]
  },
  {
   "cell_type": "code",
   "execution_count": 31,
   "id": "6dc5fc5b",
   "metadata": {},
   "outputs": [
    {
     "data": {
      "image/png": "[encoded data removed]",
      "text/plain": [
       "<Figure size 1152x360 with 3 Axes>"
      ]
     },
     "metadata": {
      "needs_background": "light"
     },
     "output_type": "display_data"
    }
   ],
   "source": [
    "fig, axs = plt.subplots(1,3,figsize=(16,5))\n",
    "axs = plot_3hists(mod0_ch0[cut_mask], axs = axs)\n",
    "axs[0].set_yscale('log')\n",
    "plt.tight_layout()\n",
    "plt.show()"
   ]
  },
  {
   "cell_type": "markdown",
   "id": "46d8564c",
   "metadata": {},
   "source": [
    "These are very likely afterpulses! Nice! "
   ]
  },
  {
   "cell_type": "markdown",
   "id": "7df631e0",
   "metadata": {},
   "source": [
    "## Save the processed data"
   ]
  },
  {
   "cell_type": "code",
   "execution_count": 49,
   "id": "cf5da8e5",
   "metadata": {},
   "outputs": [],
   "source": [
    "#atm the output of process_datasets is a pd.dataframe \n",
    "#that needs to be loaded to a processed_dataset\n",
    "#object, in the future the output will be the object\n",
    "#and to access the dataframe will be processed_dataset.data\n",
    "\n",
    "processed_data = processed_dataset(run = base_run,\n",
    "                                   kind = 'BV',\n",
    "                                   vbias = 50.75, \n",
    "                                   temp = 170, \n",
    "                                   path_processed = '/disk/gfs_atp/xenoscope/SiPMs/char_campaign/processed_data/',\n",
    "                                   process_hash= process.hash)"
   ]
  },
  {
   "cell_type": "code",
   "execution_count": 50,
   "id": "c8f9b7f9",
   "metadata": {},
   "outputs": [
    {
     "data": {
      "text/plain": [
       "{'run': <pylars.utils.input.run at 0x7f148c1f02e0>,\n",
       " 'kind': 'BV',\n",
       " 'vbias': 50.75,\n",
       " 'temp': 170,\n",
       " 'process_hash': 2460116862163250183,\n",
       " 'path_processed': '/disk/gfs_atp/xenoscope/SiPMs/char_campaign/processed_data/',\n",
       " 'hash': '5425091988894277140'}"
      ]
     },
     "execution_count": 50,
     "metadata": {},
     "output_type": "execute_result"
    }
   ],
   "source": [
    "processed_data.__dict__"
   ]
  },
  {
   "cell_type": "code",
   "execution_count": 51,
   "id": "ec9e8c5e",
   "metadata": {},
   "outputs": [
    {
     "ename": "FileNotFoundError",
     "evalue": "Requested processed data not found. Process and save with load_data(force=True) or process and save with save_data.",
     "output_type": "error",
     "traceback": [
      "\u001b[0;31m---------------------------------------------------------------------------\u001b[0m",
      "\u001b[0;31mFileNotFoundError\u001b[0m                         Traceback (most recent call last)",
      "File \u001b[0;32m~/software/PyLArS/notebooks/../pylars/utils/output.py:85\u001b[0m, in \u001b[0;36mprocessed_dataset.load_data\u001b[0;34m(self, force)\u001b[0m\n\u001b[1;32m     84\u001b[0m \u001b[38;5;28;01mtry\u001b[39;00m:\n\u001b[0;32m---> 85\u001b[0m     \u001b[38;5;28mself\u001b[39m\u001b[38;5;241m.\u001b[39mdata \u001b[38;5;241m=\u001b[39m \u001b[43mpd\u001b[49m\u001b[38;5;241;43m.\u001b[39;49m\u001b[43mread_hdf\u001b[49m\u001b[43m(\u001b[49m\n\u001b[1;32m     86\u001b[0m \u001b[43m        \u001b[49m\u001b[38;5;124;43m'\u001b[39;49m\u001b[38;5;124;43mf\u001b[39;49m\u001b[38;5;132;43;01m{self.path_processed}\u001b[39;49;00m\u001b[38;5;124;43mrun\u001b[39;49m\u001b[38;5;132;43;01m{self.run.run_number}\u001b[39;49;00m\u001b[38;5;124;43m/\u001b[39;49m\u001b[38;5;132;43;01m{self.kind}\u001b[39;49;00m\u001b[38;5;124;43m_\u001b[39;49m\u001b[38;5;132;43;01m{self.temp}\u001b[39;49;00m\u001b[38;5;124;43m_\u001b[39;49m\u001b[38;5;132;43;01m{self.vbias}\u001b[39;49;00m\u001b[38;5;124;43m-\u001b[39;49m\u001b[38;5;132;43;01m{self.process_hash}\u001b[39;49;00m\u001b[38;5;124;43m.h5}\u001b[39;49m\u001b[38;5;124;43m'\u001b[39;49m\u001b[43m)\u001b[49m\n\u001b[1;32m     87\u001b[0m \u001b[38;5;28;01mexcept\u001b[39;00m \u001b[38;5;167;01mBaseException\u001b[39;00m:\n",
      "File \u001b[0;32m/disk/groups/atp/miniconda3/envs/sipms/lib/python3.8/site-packages/pandas/io/pytables.py:427\u001b[0m, in \u001b[0;36mread_hdf\u001b[0;34m(path_or_buf, key, mode, errors, where, start, stop, columns, iterator, chunksize, **kwargs)\u001b[0m\n\u001b[1;32m    426\u001b[0m \u001b[38;5;28;01mif\u001b[39;00m \u001b[38;5;129;01mnot\u001b[39;00m exists:\n\u001b[0;32m--> 427\u001b[0m     \u001b[38;5;28;01mraise\u001b[39;00m \u001b[38;5;167;01mFileNotFoundError\u001b[39;00m(\u001b[38;5;124mf\u001b[39m\u001b[38;5;124m\"\u001b[39m\u001b[38;5;124mFile \u001b[39m\u001b[38;5;132;01m{\u001b[39;00mpath_or_buf\u001b[38;5;132;01m}\u001b[39;00m\u001b[38;5;124m does not exist\u001b[39m\u001b[38;5;124m\"\u001b[39m)\n\u001b[1;32m    429\u001b[0m store \u001b[38;5;241m=\u001b[39m HDFStore(path_or_buf, mode\u001b[38;5;241m=\u001b[39mmode, errors\u001b[38;5;241m=\u001b[39merrors, \u001b[38;5;241m*\u001b[39m\u001b[38;5;241m*\u001b[39mkwargs)\n",
      "\u001b[0;31mFileNotFoundError\u001b[0m: File f{self.path_processed}run{self.run.run_number}/{self.kind}_{self.temp}_{self.vbias}-{self.process_hash}.h5} does not exist",
      "\nDuring handling of the above exception, another exception occurred:\n",
      "\u001b[0;31mFileNotFoundError\u001b[0m                         Traceback (most recent call last)",
      "File \u001b[0;32m~/software/PyLArS/notebooks/../pylars/utils/output.py:88\u001b[0m, in \u001b[0;36mprocessed_dataset.load_data\u001b[0;34m(self, force)\u001b[0m\n\u001b[1;32m     87\u001b[0m     \u001b[38;5;28;01mexcept\u001b[39;00m \u001b[38;5;167;01mBaseException\u001b[39;00m:\n\u001b[0;32m---> 88\u001b[0m         \u001b[38;5;28mself\u001b[39m\u001b[38;5;241m.\u001b[39mdata \u001b[38;5;241m=\u001b[39m \u001b[43mpd\u001b[49m\u001b[38;5;241;43m.\u001b[39;49m\u001b[43mread_hdf\u001b[49m\u001b[43m(\u001b[49m\n\u001b[1;32m     89\u001b[0m \u001b[43m            \u001b[49m\u001b[38;5;124;43m'\u001b[39;49m\u001b[38;5;124;43mf\u001b[39;49m\u001b[38;5;132;43;01m{self.path_processed}\u001b[39;49;00m\u001b[38;5;124;43mrun\u001b[39;49m\u001b[38;5;132;43;01m{self.run.run_number}\u001b[39;49;00m\u001b[38;5;124;43m/\u001b[39;49m\u001b[38;5;132;43;01m{self.kind}\u001b[39;49;00m\u001b[38;5;124;43m_\u001b[39;49m\u001b[38;5;132;43;01m{self.temp}\u001b[39;49;00m\u001b[38;5;124;43m_\u001b[39;49m\u001b[38;5;132;43;01m{self.vbias}\u001b[39;49;00m\u001b[38;5;124;43m-\u001b[39;49m\u001b[38;5;132;43;01m{self.process_hash}\u001b[39;49;00m\u001b[38;5;124;43m.csv}\u001b[39;49m\u001b[38;5;124;43m'\u001b[39;49m\u001b[43m)\u001b[49m\n\u001b[1;32m     90\u001b[0m \u001b[38;5;28;01mexcept\u001b[39;00m \u001b[38;5;167;01mBaseException\u001b[39;00m:\n",
      "File \u001b[0;32m/disk/groups/atp/miniconda3/envs/sipms/lib/python3.8/site-packages/pandas/io/pytables.py:427\u001b[0m, in \u001b[0;36mread_hdf\u001b[0;34m(path_or_buf, key, mode, errors, where, start, stop, columns, iterator, chunksize, **kwargs)\u001b[0m\n\u001b[1;32m    426\u001b[0m \u001b[38;5;28;01mif\u001b[39;00m \u001b[38;5;129;01mnot\u001b[39;00m exists:\n\u001b[0;32m--> 427\u001b[0m     \u001b[38;5;28;01mraise\u001b[39;00m \u001b[38;5;167;01mFileNotFoundError\u001b[39;00m(\u001b[38;5;124mf\u001b[39m\u001b[38;5;124m\"\u001b[39m\u001b[38;5;124mFile \u001b[39m\u001b[38;5;132;01m{\u001b[39;00mpath_or_buf\u001b[38;5;132;01m}\u001b[39;00m\u001b[38;5;124m does not exist\u001b[39m\u001b[38;5;124m\"\u001b[39m)\n\u001b[1;32m    429\u001b[0m store \u001b[38;5;241m=\u001b[39m HDFStore(path_or_buf, mode\u001b[38;5;241m=\u001b[39mmode, errors\u001b[38;5;241m=\u001b[39merrors, \u001b[38;5;241m*\u001b[39m\u001b[38;5;241m*\u001b[39mkwargs)\n",
      "\u001b[0;31mFileNotFoundError\u001b[0m: File f{self.path_processed}run{self.run.run_number}/{self.kind}_{self.temp}_{self.vbias}-{self.process_hash}.csv} does not exist",
      "\nDuring handling of the above exception, another exception occurred:\n",
      "\u001b[0;31mFileNotFoundError\u001b[0m                         Traceback (most recent call last)",
      "Input \u001b[0;32mIn [51]\u001b[0m, in \u001b[0;36m<cell line: 1>\u001b[0;34m()\u001b[0m\n\u001b[0;32m----> 1\u001b[0m \u001b[43mprocessed_data\u001b[49m\u001b[38;5;241;43m.\u001b[39;49m\u001b[43mload_data\u001b[49m\u001b[43m(\u001b[49m\u001b[43m)\u001b[49m\n",
      "File \u001b[0;32m~/software/PyLArS/notebooks/../pylars/utils/output.py:91\u001b[0m, in \u001b[0;36mprocessed_dataset.load_data\u001b[0;34m(self, force)\u001b[0m\n\u001b[1;32m     88\u001b[0m             \u001b[38;5;28mself\u001b[39m\u001b[38;5;241m.\u001b[39mdata \u001b[38;5;241m=\u001b[39m pd\u001b[38;5;241m.\u001b[39mread_hdf(\n\u001b[1;32m     89\u001b[0m                 \u001b[38;5;124m'\u001b[39m\u001b[38;5;124mf\u001b[39m\u001b[38;5;132;01m{self.path_processed}\u001b[39;00m\u001b[38;5;124mrun\u001b[39m\u001b[38;5;132;01m{self.run.run_number}\u001b[39;00m\u001b[38;5;124m/\u001b[39m\u001b[38;5;132;01m{self.kind}\u001b[39;00m\u001b[38;5;124m_\u001b[39m\u001b[38;5;132;01m{self.temp}\u001b[39;00m\u001b[38;5;124m_\u001b[39m\u001b[38;5;132;01m{self.vbias}\u001b[39;00m\u001b[38;5;124m-\u001b[39m\u001b[38;5;132;01m{self.process_hash}\u001b[39;00m\u001b[38;5;124m.csv}\u001b[39m\u001b[38;5;124m'\u001b[39m)\n\u001b[1;32m     90\u001b[0m     \u001b[38;5;28;01mexcept\u001b[39;00m \u001b[38;5;167;01mBaseException\u001b[39;00m:\n\u001b[0;32m---> 91\u001b[0m         \u001b[38;5;28;01mraise\u001b[39;00m \u001b[38;5;167;01mFileNotFoundError\u001b[39;00m(\n\u001b[1;32m     92\u001b[0m             \u001b[38;5;124m\"\u001b[39m\u001b[38;5;124mRequested processed data not found. Process and save with load_data(force=True) or process and save with save_data.\u001b[39m\u001b[38;5;124m\"\u001b[39m)\n\u001b[1;32m     94\u001b[0m \u001b[38;5;28;01melse\u001b[39;00m:\n\u001b[1;32m     95\u001b[0m     \u001b[38;5;28;01mtry\u001b[39;00m:\n",
      "\u001b[0;31mFileNotFoundError\u001b[0m: Requested processed data not found. Process and save with load_data(force=True) or process and save with save_data."
     ]
    }
   ],
   "source": [
    "processed_data.load_data()"
   ]
  },
  {
   "cell_type": "code",
   "execution_count": 52,
   "id": "4df3bb7f",
   "metadata": {},
   "outputs": [],
   "source": [
    "processed_data.input_data(data)"
   ]
  },
  {
   "cell_type": "code",
   "execution_count": 56,
   "id": "43069c95",
   "metadata": {},
   "outputs": [
    {
     "name": "stdout",
     "output_type": "stream",
     "text": [
      "Saved file to: /disk/gfs_atp/xenoscope/SiPMs/char_campaign/processed_data/run6/BV_170_50.75-2460116862163250183.h5\n"
     ]
    }
   ],
   "source": [
    "processed_data.save_data()"
   ]
  },
  {
   "cell_type": "code",
   "execution_count": 58,
   "id": "853a30a5",
   "metadata": {},
   "outputs": [
    {
     "data": {
      "text/plain": [
       "module            1\n",
       "channel         wf0\n",
       "wf_number      1937\n",
       "peak_number       3\n",
       "area           70.0\n",
       "length            2\n",
       "position        434\n",
       "Name: 1234, dtype: object"
      ]
     },
     "execution_count": 58,
     "metadata": {},
     "output_type": "execute_result"
    }
   ],
   "source": [
    "processed_data.data.iloc[1234]"
   ]
  },
  {
   "cell_type": "markdown",
   "id": "e402688f",
   "metadata": {},
   "source": [
    "### Delete and load from cache"
   ]
  },
  {
   "cell_type": "code",
   "execution_count": 59,
   "id": "2805cd16",
   "metadata": {},
   "outputs": [],
   "source": [
    "del processed_data, data"
   ]
  },
  {
   "cell_type": "code",
   "execution_count": 61,
   "id": "09f1f793",
   "metadata": {},
   "outputs": [],
   "source": [
    "processed_data = processed_dataset(run = base_run,\n",
    "                                   kind = 'BV',\n",
    "                                   vbias = 50.75, \n",
    "                                   temp = 170, \n",
    "                                   path_processed = '/disk/gfs_atp/xenoscope/SiPMs/char_campaign/processed_data/',\n",
    "                                   process_hash= process.hash)"
   ]
  },
  {
   "cell_type": "code",
   "execution_count": 65,
   "id": "75076886",
   "metadata": {},
   "outputs": [],
   "source": [
    "processed_data.load_data()"
   ]
  },
  {
   "cell_type": "code",
   "execution_count": 66,
   "id": "7c0d0d49",
   "metadata": {},
   "outputs": [
    {
     "data": {
      "text/plain": [
       "module            1\n",
       "channel         wf0\n",
       "wf_number      1937\n",
       "peak_number       3\n",
       "area           70.0\n",
       "length            2\n",
       "position        434\n",
       "Name: 1234, dtype: object"
      ]
     },
     "execution_count": 66,
     "metadata": {},
     "output_type": "execute_result"
    }
   ],
   "source": [
    "processed_data.data.iloc[1234]"
   ]
  },
  {
   "cell_type": "code",
   "execution_count": null,
   "id": "dc03a645",
   "metadata": {},
   "outputs": [],
   "source": []
  }
 ],
 "metadata": {
  "kernelspec": {
   "display_name": "Python 3 (ipykernel)",
   "language": "python",
   "name": "python3"
  },
  "language_info": {
   "codemirror_mode": {
    "name": "ipython",
    "version": 3
   },
   "file_extension": ".py",
   "mimetype": "text/x-python",
   "name": "python",
   "nbconvert_exporter": "python",
   "pygments_lexer": "ipython3",
   "version": "3.8.13"
  }
 },
 "nbformat": 4,
 "nbformat_minor": 5
}
