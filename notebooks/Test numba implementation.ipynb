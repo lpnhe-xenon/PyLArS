{
 "cells": [
  {
   "cell_type": "markdown",
   "id": "8756ce0b",
   "metadata": {},
   "source": [
    "# Tests with implemting numba to some of the processing functions\n",
    "\n",
    "> Ricardo Peres, 26.07.2022\n",
    "\n",
    "Numba: A High Performance Python Compiler: https://numba.pydata.org\n",
    " \n",
    "\n"
   ]
  },
  {
   "cell_type": "code",
   "execution_count": 4,
   "id": "f4afd7a1",
   "metadata": {},
   "outputs": [],
   "source": [
    "import numba\n",
    "import numpy as np\n",
    "\n",
    "import sys\n",
    "sys.path.append('../')\n",
    "import pylars\n",
    "from pylars.processing.waveforms import waveform_processing\n",
    "from pylars.processing.peaks import peak_processing"
   ]
  },
  {
   "cell_type": "markdown",
   "id": "42f35064",
   "metadata": {},
   "source": [
    "#### Fire up a processor and get waveforms"
   ]
  },
  {
   "cell_type": "code",
   "execution_count": 5,
   "id": "825b221d",
   "metadata": {},
   "outputs": [],
   "source": [
    "process = pylars.processing.simple_processor(sigma_level=2, baseline_samples=50)\n",
    "data_path = '/disk/gfs_atp/xenoscope/SiPMs/char_campaign/raw_data/run6/room_temp_21072022/LED_ON_300K_51_0V/Module0/LED_ON_300K_51_0V_Module_0_0.root'\n",
    "process.load_raw_data(data_path, 49,300)"
   ]
  },
  {
   "cell_type": "code",
   "execution_count": 7,
   "id": "86b0a99d",
   "metadata": {},
   "outputs": [],
   "source": [
    "channel_data = process.raw_data.get_channel_data('wf0')\n",
    "baseline = waveform_processing.get_baseline_rough(channel_data[0], 50)\n",
    "std = waveform_processing.get_std_rough(channel_data[0], 50)\n",
    "pks = peak_processing.find_peaks_simple(np.array(channel_data[0]), baseline, std, 2)"
   ]
  },
  {
   "cell_type": "markdown",
   "id": "01604ff4",
   "metadata": {},
   "source": [
    "## Test area functions"
   ]
  },
  {
   "cell_type": "code",
   "execution_count": 8,
   "id": "b45892cf",
   "metadata": {},
   "outputs": [],
   "source": [
    "def get_area(waveform: np.ndarray, baseline_value: float,\n",
    "             peak_start: int, peak_end: int, dt: int = 10) -> float:\n",
    "    \"\"\"Get area of a single identified peak in a waveform.\n",
    "\n",
    "    Args:\n",
    "        waveform (_type_): _description_\n",
    "        baseline_value (float): _description_\n",
    "        peak_start (int): _description_\n",
    "        peak_end (int): _description_\n",
    "        dt (int, optional): _description_. Defaults to 10.\n",
    "\n",
    "    Returns:\n",
    "        _type_: _description_\n",
    "    \"\"\"\n",
    "    peak_wf = waveform[peak_start:peak_end]\n",
    "    area_under = np.sum(baseline_value - peak_wf) * 10\n",
    "    return area_under\n",
    "\n",
    "@numba.njit\n",
    "def get_area_numba(waveform: np.ndarray, baseline_value: float,\n",
    "             peak_start: int, peak_end: int, dt: int = 10) -> float:\n",
    "    \"\"\"Get area of a single identified peak in a waveform.\n",
    "\n",
    "    Args:\n",
    "        waveform (_type_): _description_\n",
    "        baseline_value (float): _description_\n",
    "        peak_start (int): _description_\n",
    "        peak_end (int): _description_\n",
    "        dt (int, optional): _description_. Defaults to 10.\n",
    "\n",
    "    Returns:\n",
    "        _type_: _description_\n",
    "    \"\"\"\n",
    "    peak_wf = waveform[peak_start:peak_end]\n",
    "    area_under = np.sum(baseline_value - peak_wf) * 10\n",
    "    return area_under"
   ]
  },
  {
   "cell_type": "code",
   "execution_count": 9,
   "id": "bb251d12",
   "metadata": {},
   "outputs": [],
   "source": [
    "_peak = pks[0]\n",
    "_waveform = np.array(channel_data[0])"
   ]
  },
  {
   "cell_type": "code",
   "execution_count": 10,
   "id": "1a5aab33",
   "metadata": {},
   "outputs": [
    {
     "name": "stdout",
     "output_type": "stream",
     "text": [
      "9.11 µs ± 963 ns per loop (mean ± std. dev. of 7 runs, 100,000 loops each)\n"
     ]
    }
   ],
   "source": [
    "%%timeit\n",
    "get_area(_waveform, baseline, _peak[0], _peak[-1])"
   ]
  },
  {
   "cell_type": "code",
   "execution_count": 11,
   "id": "3b6d1e98",
   "metadata": {},
   "outputs": [
    {
     "name": "stdout",
     "output_type": "stream",
     "text": [
      "The slowest run took 17.30 times longer than the fastest. This could mean that an intermediate result is being cached.\n",
      "3.66 µs ± 5.86 µs per loop (mean ± std. dev. of 7 runs, 1 loop each)\n"
     ]
    }
   ],
   "source": [
    "%%timeit\n",
    "get_area_numba(_waveform, baseline, _peak[0], _peak[-1])"
   ]
  },
  {
   "cell_type": "code",
   "execution_count": null,
   "id": "c3ed7799",
   "metadata": {},
   "outputs": [],
   "source": []
  },
  {
   "cell_type": "code",
   "execution_count": 12,
   "id": "e9d3e9a8",
   "metadata": {},
   "outputs": [],
   "source": [
    "def get_all_areas_normal(waveform: np.ndarray, peaks: np.ndarray, baseline_value: float) -> np.ndarray:\n",
    "    \"\"\"Compute the areas of all the peaks in a waveform.\n",
    "    TO DO: use np.apply_along_axis or similar and see if\n",
    "    there is speed improvement.\n",
    "    \"\"\"\n",
    "    areas = np.zeros(len(peaks))\n",
    "    for i, _peak in enumerate(peaks):\n",
    "        areas[i] = get_area(waveform, baseline_value, _peak[0], _peak[-1])\n",
    "    return areas\n",
    "\n",
    "def get_all_areas_list(waveform: np.ndarray, peaks: np.ndarray, baseline_value: float) -> list:\n",
    "    \"\"\"Compute the areas of all the peaks in a waveform.\n",
    "    TO DO: use np.apply_along_axis or similar and see if\n",
    "    there is speed improvement.\n",
    "    \"\"\"\n",
    "\n",
    "    areas = [get_area(waveform, baseline_value, _peak[0], _peak[-1]) for _peak in peaks]\n",
    "\n",
    "    return areas\n",
    "\n",
    "def get_all_areas_numba(waveform: np.ndarray, peaks: np.ndarray, baseline_value: float) -> np.ndarray:\n",
    "    \"\"\"Compute the areas of all the peaks in a waveform.\n",
    "    TO DO: use np.apply_along_axis or similar and see if\n",
    "    there is speed improvement.\n",
    "    \"\"\"\n",
    "    areas = np.zeros(len(peaks))\n",
    "    for i, _peak in enumerate(peaks):\n",
    "        areas[i] = get_area_numba(waveform, baseline_value, _peak[0], _peak[-1])\n",
    "    return areas\n"
   ]
  },
  {
   "cell_type": "code",
   "execution_count": 13,
   "id": "bdbab45b",
   "metadata": {},
   "outputs": [
    {
     "name": "stdout",
     "output_type": "stream",
     "text": [
      "31.4 µs ± 6.65 µs per loop (mean ± std. dev. of 7 runs, 10,000 loops each)\n"
     ]
    }
   ],
   "source": [
    "%%timeit\n",
    "areas = get_all_areas_normal(_waveform, pks, baseline)"
   ]
  },
  {
   "cell_type": "code",
   "execution_count": 14,
   "id": "0b73f4bd",
   "metadata": {},
   "outputs": [
    {
     "name": "stdout",
     "output_type": "stream",
     "text": [
      "29.5 µs ± 5.36 µs per loop (mean ± std. dev. of 7 runs, 10,000 loops each)\n"
     ]
    }
   ],
   "source": [
    "%%timeit\n",
    "areas = get_all_areas_list(_waveform, pks, baseline)"
   ]
  },
  {
   "cell_type": "code",
   "execution_count": 15,
   "id": "9b453beb",
   "metadata": {},
   "outputs": [
    {
     "name": "stdout",
     "output_type": "stream",
     "text": [
      "4.61 µs ± 207 ns per loop (mean ± std. dev. of 7 runs, 100,000 loops each)\n"
     ]
    }
   ],
   "source": [
    "%%timeit\n",
    "areas = get_all_areas_numba(_waveform, pks, baseline)"
   ]
  },
  {
   "cell_type": "markdown",
   "id": "676ca474",
   "metadata": {},
   "source": [
    "## Lengths"
   ]
  },
  {
   "cell_type": "code",
   "execution_count": 16,
   "id": "e3ac7d38",
   "metadata": {},
   "outputs": [],
   "source": [
    "def get_all_lengths(peaks: list) -> list:\n",
    "    \"\"\"COmpute the lengths of all the peaks in a waveform.\n",
    "    TO DO: try numba to speed it up.\n",
    "\n",
    "    Args:\n",
    "        peaks (_type_): _description_\n",
    "\n",
    "    Returns:\n",
    "        _type_: _description_\n",
    "    \"\"\"\n",
    "    lengths = [len(_peak) for _peak in peaks]\n",
    "    return lengths\n",
    "\n",
    "@numba.njit\n",
    "def get_all_lengths_numba(peaks: list) -> list:\n",
    "    \"\"\"COmpute the lengths of all the peaks in a waveform.\n",
    "    TO DO: try numba to speed it up.\n",
    "\n",
    "    Args:\n",
    "        peaks (_type_): _description_\n",
    "\n",
    "    Returns:\n",
    "        _type_: _description_\n",
    "    \"\"\"\n",
    "    lengths = [len(_peak) for _peak in peaks]\n",
    "    return lengths"
   ]
  },
  {
   "cell_type": "code",
   "execution_count": 17,
   "id": "a39842aa",
   "metadata": {},
   "outputs": [
    {
     "name": "stdout",
     "output_type": "stream",
     "text": [
      "328 ns ± 26.7 ns per loop (mean ± std. dev. of 7 runs, 1,000,000 loops each)\n"
     ]
    }
   ],
   "source": [
    "%%timeit\n",
    "get_all_lengths(pks)"
   ]
  },
  {
   "cell_type": "code",
   "execution_count": 18,
   "id": "ae894dfc",
   "metadata": {},
   "outputs": [
    {
     "name": "stderr",
     "output_type": "stream",
     "text": [
      "/disk/groups/atp/miniconda3/envs/sipms/lib/python3.8/site-packages/numba/core/ir_utils.py:2152: NumbaPendingDeprecationWarning: \n",
      "Encountered the use of a type that is scheduled for deprecation: type 'reflected list' found for argument 'peaks' of function 'get_all_lengths_numba'.\n",
      "\n",
      "For more information visit https://numba.readthedocs.io/en/stable/reference/deprecation.html#deprecation-of-reflection-for-list-and-set-types\n",
      "\n",
      "File \"../../../../../../tmp/ipykernel_66840/3244411019.py\", line 14:\n",
      "<source missing, REPL/exec in use?>\n",
      "\n",
      "  warnings.warn(NumbaPendingDeprecationWarning(msg, loc=loc))\n"
     ]
    },
    {
     "name": "stdout",
     "output_type": "stream",
     "text": [
      "115 µs ± 38.6 µs per loop (mean ± std. dev. of 7 runs, 1 loop each)\n"
     ]
    }
   ],
   "source": [
    "%%timeit\n",
    "get_all_lengths_numba(pks)"
   ]
  },
  {
   "cell_type": "markdown",
   "id": "755bebc4",
   "metadata": {},
   "source": [
    "## Positions"
   ]
  },
  {
   "cell_type": "code",
   "execution_count": 19,
   "id": "a7ccc283",
   "metadata": {},
   "outputs": [],
   "source": [
    "def get_all_positions(peaks: list) -> list:\n",
    "    \"\"\"Calcultes the initial position of the identified peak\n",
    "    in number of samples.\n",
    "\n",
    "    Args:\n",
    "        peaks (_type_): array of identified peaks.\n",
    "\n",
    "    Returns:\n",
    "        _type_: list of positions of peaks.\n",
    "    \"\"\"\n",
    "    positions = [_peak[0] for _peak in peaks]\n",
    "    return positions\n",
    "\n",
    "from numba.typed import List\n",
    "\n",
    "@numba.njit\n",
    "def get_all_positions_numba(peaks: list) -> list:\n",
    "    \"\"\"Calcultes the initial position of the identified peak\n",
    "    in number of samples.\n",
    "\n",
    "    Args:\n",
    "        peaks (_type_): array of identified peaks.\n",
    "\n",
    "    Returns:\n",
    "        _type_: list of positions of peaks.\n",
    "    \"\"\"\n",
    "    positions = List()\n",
    "    [positions.append(_peak[0]) for _peak in peaks]\n",
    "    return positions"
   ]
  },
  {
   "cell_type": "code",
   "execution_count": 20,
   "id": "b1b27417",
   "metadata": {},
   "outputs": [
    {
     "name": "stdout",
     "output_type": "stream",
     "text": [
      "711 ns ± 183 ns per loop (mean ± std. dev. of 7 runs, 1,000,000 loops each)\n"
     ]
    }
   ],
   "source": [
    "%%timeit\n",
    "pos = get_all_positions(pks)"
   ]
  },
  {
   "cell_type": "code",
   "execution_count": 21,
   "id": "433e05d3",
   "metadata": {},
   "outputs": [
    {
     "name": "stderr",
     "output_type": "stream",
     "text": [
      "/disk/groups/atp/miniconda3/envs/sipms/lib/python3.8/site-packages/numba/core/ir_utils.py:2152: NumbaPendingDeprecationWarning: \n",
      "Encountered the use of a type that is scheduled for deprecation: type 'reflected list' found for argument 'peaks' of function 'get_all_positions_numba'.\n",
      "\n",
      "For more information visit https://numba.readthedocs.io/en/stable/reference/deprecation.html#deprecation-of-reflection-for-list-and-set-types\n",
      "\n",
      "File \"../../../../../../tmp/ipykernel_66840/1251832980.py\", line 16:\n",
      "<source missing, REPL/exec in use?>\n",
      "\n",
      "  warnings.warn(NumbaPendingDeprecationWarning(msg, loc=loc))\n"
     ]
    },
    {
     "name": "stdout",
     "output_type": "stream",
     "text": [
      "81.3 µs ± 51.1 µs per loop (mean ± std. dev. of 7 runs, 1 loop each)\n"
     ]
    }
   ],
   "source": [
    "%%timeit\n",
    "pos_numba = get_all_positions_numba(pks)"
   ]
  },
  {
   "cell_type": "markdown",
   "id": "c860e0e9",
   "metadata": {},
   "source": [
    "## split peaks"
   ]
  },
  {
   "cell_type": "code",
   "execution_count": 22,
   "id": "f9fee4fc",
   "metadata": {},
   "outputs": [],
   "source": [
    "def split_consecutive_normal(array: np.array, stepsize: int = 1):\n",
    "    split_index = np.where(np.diff(array) != stepsize)[0] + 1\n",
    "    split_array = np.split(array, split_index)\n",
    "    return split_array\n",
    "\n",
    "@numba.njit\n",
    "def split_consecutive_numba(array: np.array, stepsize: int = 1):\n",
    "    split_index = np.where(np.diff(array) != stepsize)[0] + 1\n",
    "    split_array = np.split(array, split_index)\n",
    "    return split_array\n",
    "\n",
    "def split_consecutive_kindapython(array: np.array, stepsize: int = 1):\n",
    "    split_list = list()\n",
    "    _running_list = list()\n",
    "    for i, index_number_from_waveform in enumerate(array):\n",
    "        if i==(len(array)-1):\n",
    "            if index_number_from_waveform ==array[i-1]+1:\n",
    "                _running_list.append(index_number_from_waveform)\n",
    "                split_list.append(_running_list)\n",
    "            else:\n",
    "                split_list.append([index_number_from_waveform])\n",
    "            break\n",
    "        if index_number_from_waveform == (array[i+1]-1):\n",
    "            _running_list.append(index_number_from_waveform)\n",
    "        else:\n",
    "            _running_list.append(index_number_from_waveform)\n",
    "            split_list.append(_running_list)\n",
    "            _running_list = list()\n",
    "#    split_index = np.where(np.diff(array) != stepsize)[0] + 1\n",
    "#    split_array = np.split(array, split_index)\n",
    "    return split_list"
   ]
  },
  {
   "cell_type": "code",
   "execution_count": 23,
   "id": "438af08a",
   "metadata": {},
   "outputs": [],
   "source": [
    "bellow_baseline = np.where(_waveform < (baseline - std*1.5))[0]"
   ]
  },
  {
   "cell_type": "code",
   "execution_count": 29,
   "id": "7fbd7329",
   "metadata": {},
   "outputs": [
    {
     "name": "stdout",
     "output_type": "stream",
     "text": [
      "34.8 µs ± 3.11 µs per loop (mean ± std. dev. of 7 runs, 10,000 loops each)\n"
     ]
    }
   ],
   "source": [
    "%%timeit\n",
    "split_array = split_consecutive_normal(bellow_baseline)"
   ]
  },
  {
   "cell_type": "code",
   "execution_count": 27,
   "id": "40a64c9d",
   "metadata": {},
   "outputs": [
    {
     "name": "stdout",
     "output_type": "stream",
     "text": [
      "71.8 µs ± 8.41 µs per loop (mean ± std. dev. of 7 runs, 10,000 loops each)\n"
     ]
    }
   ],
   "source": [
    "%%timeit\n",
    "split_array_numba = split_consecutive_numba(bellow_baseline)"
   ]
  },
  {
   "cell_type": "code",
   "execution_count": 28,
   "id": "80461622",
   "metadata": {},
   "outputs": [
    {
     "name": "stdout",
     "output_type": "stream",
     "text": [
      "34.2 µs ± 4.98 µs per loop (mean ± std. dev. of 7 runs, 10,000 loops each)\n"
     ]
    }
   ],
   "source": [
    "%%timeit\n",
    "split_list = split_consecutive_kindapython(bellow_baseline)"
   ]
  }
 ],
 "metadata": {
  "kernelspec": {
   "display_name": "Python 3 (ipykernel)",
   "language": "python",
   "name": "python3"
  },
  "language_info": {
   "codemirror_mode": {
    "name": "ipython",
    "version": 3
   },
   "file_extension": ".py",
   "mimetype": "text/x-python",
   "name": "python",
   "nbconvert_exporter": "python",
   "pygments_lexer": "ipython3",
   "version": "3.8.13"
  }
 },
 "nbformat": 4,
 "nbformat_minor": 5
}
