{
 "cells": [
  {
   "cell_type": "markdown",
   "id": "17b545c3",
   "metadata": {},
   "source": [
    "# Calculating breakdown voltage\n",
    "\n",
    "Calculation steps:\n",
    "  - Choose a sensor/channel+module and temperature to calculate BV\n",
    "  - Load processed data from LED ON datasets for different voltages\n",
    "  "
   ]
  },
  {
   "cell_type": "code",
   "execution_count": 35,
   "id": "f538036d",
   "metadata": {},
   "outputs": [
    {
     "name": "stdout",
     "output_type": "stream",
     "text": [
      "The autoreload extension is already loaded. To reload it, use:\n",
      "  %reload_ext autoreload\n"
     ]
    }
   ],
   "source": [
    "%load_ext autoreload\n",
    "%autoreload 2"
   ]
  },
  {
   "cell_type": "code",
   "execution_count": 36,
   "id": "94d9d78d",
   "metadata": {},
   "outputs": [],
   "source": [
    "import pandas as pd\n",
    "import numpy as np\n",
    "import matplotlib.pyplot as plt\n",
    "\n",
    "import sys\n",
    "sys.path.append('../')\n",
    "import pylars"
   ]
  },
  {
   "cell_type": "code",
   "execution_count": 37,
   "id": "4e2bae3c",
   "metadata": {},
   "outputs": [],
   "source": [
    "import pylars.utils.output\n",
    "import pylars.utils.input"
   ]
  },
  {
   "cell_type": "code",
   "execution_count": null,
   "id": "a6e4cfbb",
   "metadata": {},
   "outputs": [],
   "source": []
  },
  {
   "cell_type": "markdown",
   "id": "42b8dbe7",
   "metadata": {},
   "source": [
    "#### Define the run and the processor"
   ]
  },
  {
   "cell_type": "code",
   "execution_count": 6,
   "id": "e4d6cd47",
   "metadata": {},
   "outputs": [],
   "source": [
    "base_run = pylars.utils.input.run(\n",
    "        run_number=6,\n",
    "        main_data_path='/disk/gfs_atp/xenoscope/SiPMs/char_campaign/raw_data/')"
   ]
  },
  {
   "cell_type": "code",
   "execution_count": 7,
   "id": "b083a7f7",
   "metadata": {},
   "outputs": [],
   "source": [
    "process = pylars.processing.rawprocessor.run_processor(\n",
    "        base_run, 'simple', sigma_level=5, baseline_samples=50)"
   ]
  },
  {
   "cell_type": "code",
   "execution_count": 28,
   "id": "9f583b75",
   "metadata": {},
   "outputs": [],
   "source": [
    "voltages = get_voltages_available(170, base_run)"
   ]
  },
  {
   "cell_type": "code",
   "execution_count": 29,
   "id": "1a8c5892",
   "metadata": {},
   "outputs": [
    {
     "data": {
      "text/plain": [
       "array([46.  , 46.25, 46.5 , 46.75, 47.  , 47.25, 47.5 , 47.75, 48.  ,\n",
       "       48.25, 48.5 , 48.75, 49.  , 49.25, 49.5 , 49.75, 50.  , 50.25,\n",
       "       50.5 , 50.75, 51.  , 51.25, 51.5 , 51.75, 52.  , 52.25, 52.5 ])"
      ]
     },
     "execution_count": 29,
     "metadata": {},
     "output_type": "execute_result"
    }
   ],
   "source": [
    "voltages"
   ]
  },
  {
   "cell_type": "code",
   "execution_count": 24,
   "id": "e088abfd",
   "metadata": {},
   "outputs": [
    {
     "data": {
      "text/plain": [
       "'BV'"
      ]
     },
     "execution_count": 24,
     "metadata": {},
     "output_type": "execute_result"
    }
   ],
   "source": [
    "base_run.datasets[0].kind"
   ]
  },
  {
   "cell_type": "markdown",
   "id": "2a146a5f",
   "metadata": {},
   "source": [
    "#### Create the processed data object and fetch the processed data"
   ]
  },
  {
   "cell_type": "code",
   "execution_count": 30,
   "id": "fb27cb0f",
   "metadata": {},
   "outputs": [],
   "source": [
    "processed_data = pylars.utils.output.processed_dataset(\n",
    "    run=base_run,\n",
    "    kind='BV',\n",
    "    vbias=50.75,\n",
    "    temp=170,\n",
    "    path_processed='/disk/gfs_atp/xenoscope/SiPMs/char_campaign/processed_data/',\n",
    "    process_hash=process.hash)"
   ]
  },
  {
   "cell_type": "code",
   "execution_count": 8,
   "id": "b9dbeec8",
   "metadata": {},
   "outputs": [
    {
     "name": "stdout",
     "output_type": "stream",
     "text": [
      "Loaded file:  /disk/gfs_atp/xenoscope/SiPMs/char_campaign/processed_data/run6/BV_170.00_50.75-3iertgj.h5\n"
     ]
    }
   ],
   "source": [
    "processed_data.load_data()"
   ]
  },
  {
   "cell_type": "code",
   "execution_count": 31,
   "id": "1b03b950",
   "metadata": {},
   "outputs": [],
   "source": [
    "processed_data.load_data?"
   ]
  },
  {
   "cell_type": "code",
   "execution_count": 10,
   "id": "eb1330fd",
   "metadata": {
    "scrolled": true
   },
   "outputs": [
    {
     "data": {
      "text/html": [
       "<div>\n",
       "<style scoped>\n",
       "    .dataframe tbody tr th:only-of-type {\n",
       "        vertical-align: middle;\n",
       "    }\n",
       "\n",
       "    .dataframe tbody tr th {\n",
       "        vertical-align: top;\n",
       "    }\n",
       "\n",
       "    .dataframe thead th {\n",
       "        text-align: right;\n",
       "    }\n",
       "</style>\n",
       "<table border=\"1\" class=\"dataframe\">\n",
       "  <thead>\n",
       "    <tr style=\"text-align: right;\">\n",
       "      <th></th>\n",
       "      <th>module</th>\n",
       "      <th>channel</th>\n",
       "      <th>wf_number</th>\n",
       "      <th>peak_number</th>\n",
       "      <th>area</th>\n",
       "      <th>length</th>\n",
       "      <th>position</th>\n",
       "    </tr>\n",
       "  </thead>\n",
       "  <tbody>\n",
       "    <tr>\n",
       "      <th>0</th>\n",
       "      <td>1</td>\n",
       "      <td>wf0</td>\n",
       "      <td>1</td>\n",
       "      <td>0</td>\n",
       "      <td>0.0</td>\n",
       "      <td>1</td>\n",
       "      <td>157</td>\n",
       "    </tr>\n",
       "    <tr>\n",
       "      <th>1</th>\n",
       "      <td>1</td>\n",
       "      <td>wf0</td>\n",
       "      <td>1</td>\n",
       "      <td>1</td>\n",
       "      <td>0.0</td>\n",
       "      <td>1</td>\n",
       "      <td>286</td>\n",
       "    </tr>\n",
       "    <tr>\n",
       "      <th>2</th>\n",
       "      <td>1</td>\n",
       "      <td>wf0</td>\n",
       "      <td>1</td>\n",
       "      <td>2</td>\n",
       "      <td>0.0</td>\n",
       "      <td>1</td>\n",
       "      <td>291</td>\n",
       "    </tr>\n",
       "    <tr>\n",
       "      <th>3</th>\n",
       "      <td>1</td>\n",
       "      <td>wf0</td>\n",
       "      <td>1</td>\n",
       "      <td>3</td>\n",
       "      <td>0.0</td>\n",
       "      <td>1</td>\n",
       "      <td>299</td>\n",
       "    </tr>\n",
       "    <tr>\n",
       "      <th>4</th>\n",
       "      <td>1</td>\n",
       "      <td>wf0</td>\n",
       "      <td>1</td>\n",
       "      <td>4</td>\n",
       "      <td>80.0</td>\n",
       "      <td>2</td>\n",
       "      <td>301</td>\n",
       "    </tr>\n",
       "    <tr>\n",
       "      <th>...</th>\n",
       "      <td>...</td>\n",
       "      <td>...</td>\n",
       "      <td>...</td>\n",
       "      <td>...</td>\n",
       "      <td>...</td>\n",
       "      <td>...</td>\n",
       "      <td>...</td>\n",
       "    </tr>\n",
       "    <tr>\n",
       "      <th>1354809</th>\n",
       "      <td>0</td>\n",
       "      <td>wf6</td>\n",
       "      <td>49999</td>\n",
       "      <td>4</td>\n",
       "      <td>0.0</td>\n",
       "      <td>1</td>\n",
       "      <td>386</td>\n",
       "    </tr>\n",
       "    <tr>\n",
       "      <th>1354810</th>\n",
       "      <td>0</td>\n",
       "      <td>wf6</td>\n",
       "      <td>49999</td>\n",
       "      <td>5</td>\n",
       "      <td>0.0</td>\n",
       "      <td>1</td>\n",
       "      <td>388</td>\n",
       "    </tr>\n",
       "    <tr>\n",
       "      <th>1354811</th>\n",
       "      <td>0</td>\n",
       "      <td>wf6</td>\n",
       "      <td>49999</td>\n",
       "      <td>6</td>\n",
       "      <td>35865.0</td>\n",
       "      <td>20</td>\n",
       "      <td>394</td>\n",
       "    </tr>\n",
       "    <tr>\n",
       "      <th>1354812</th>\n",
       "      <td>0</td>\n",
       "      <td>wf6</td>\n",
       "      <td>49999</td>\n",
       "      <td>7</td>\n",
       "      <td>0.0</td>\n",
       "      <td>1</td>\n",
       "      <td>416</td>\n",
       "    </tr>\n",
       "    <tr>\n",
       "      <th>1354813</th>\n",
       "      <td>0</td>\n",
       "      <td>wf6</td>\n",
       "      <td>49999</td>\n",
       "      <td>8</td>\n",
       "      <td>22380.0</td>\n",
       "      <td>9</td>\n",
       "      <td>691</td>\n",
       "    </tr>\n",
       "  </tbody>\n",
       "</table>\n",
       "<p>1354814 rows × 7 columns</p>\n",
       "</div>"
      ],
      "text/plain": [
       "         module channel  wf_number  peak_number     area  length  position\n",
       "0             1     wf0          1            0      0.0       1       157\n",
       "1             1     wf0          1            1      0.0       1       286\n",
       "2             1     wf0          1            2      0.0       1       291\n",
       "3             1     wf0          1            3      0.0       1       299\n",
       "4             1     wf0          1            4     80.0       2       301\n",
       "...         ...     ...        ...          ...      ...     ...       ...\n",
       "1354809       0     wf6      49999            4      0.0       1       386\n",
       "1354810       0     wf6      49999            5      0.0       1       388\n",
       "1354811       0     wf6      49999            6  35865.0      20       394\n",
       "1354812       0     wf6      49999            7      0.0       1       416\n",
       "1354813       0     wf6      49999            8  22380.0       9       691\n",
       "\n",
       "[1354814 rows x 7 columns]"
      ]
     },
     "execution_count": 10,
     "metadata": {},
     "output_type": "execute_result"
    }
   ],
   "source": [
    "processed_data.data"
   ]
  },
  {
   "cell_type": "code",
   "execution_count": null,
   "id": "5cbe27cb",
   "metadata": {},
   "outputs": [],
   "source": []
  },
  {
   "cell_type": "code",
   "execution_count": null,
   "id": "f4993666",
   "metadata": {},
   "outputs": [],
   "source": []
  },
  {
   "cell_type": "code",
   "execution_count": 21,
   "id": "5958efce",
   "metadata": {},
   "outputs": [],
   "source": [
    "from pylars.plotting.plotprocessed import *"
   ]
  },
  {
   "cell_type": "code",
   "execution_count": 28,
   "id": "8818cc24",
   "metadata": {},
   "outputs": [
    {
     "data": {
      "text/plain": [
       "<AxesSubplot:xlabel='Area [integrated ADC counts]', ylabel='# events'>"
      ]
     },
     "execution_count": 28,
     "metadata": {},
     "output_type": "execute_result"
    },
    {
     "data": {
      "image/png": "[encoded data removed]",
      "text/plain": [
       "<Figure size 432x288 with 1 Axes>"
      ]
     },
     "metadata": {
      "needs_background": "light"
     },
     "output_type": "display_data"
    }
   ],
   "source": [
    "plot_hist_area(df[cut_mask & (df['module'] == 0) & (df['channel'] == 'wf5')])"
   ]
  },
  {
   "cell_type": "code",
   "execution_count": 75,
   "id": "bd85353a",
   "metadata": {},
   "outputs": [],
   "source": [
    "def plot_area_LED(processed_data, module, channel, LED_position = 300, log_y = True, full_x = False, ax = None):\n",
    "    if ax is None:\n",
    "        fig, ax = plt.subplots(1,1,figsize = (12,6))\n",
    "        \n",
    "    df = processed_data.data\n",
    "    cut_mask = ((df['position'] > (LED_position - 10)) &\n",
    "                (df['position'] < (LED_position + 20)) &\n",
    "                (df['length'] > 3) &\n",
    "                (df['module'] == module) &\n",
    "                (df['channel'] == channel))\n",
    "    ax = plot_hist_area(df[cut_mask], ax = ax)\n",
    "    if full_x:\n",
    "        ax.set_xlim(0,2**14*10*300)\n",
    "    if log_y:\n",
    "        ax.set_yscale('log')\n",
    "    ax.set_title(f'LED ON: module {module}; channel {channel[-1]}') \n",
    "    return np.median(df[cut_mask])"
   ]
  },
  {
   "cell_type": "code",
   "execution_count": 74,
   "id": "d274eda9",
   "metadata": {},
   "outputs": [
    {
     "data": {
      "image/png": "[encoded data removed]",
      "text/plain": [
       "<Figure size 864x432 with 1 Axes>"
      ]
     },
     "metadata": {
      "needs_background": "light"
     },
     "output_type": "display_data"
    }
   ],
   "source": [
    "plot_area_LED(processed_data, 0, 'wf0', full_x = True, log_y= True)"
   ]
  },
  {
   "cell_type": "code",
   "execution_count": 20,
   "id": "705d227c",
   "metadata": {},
   "outputs": [
    {
     "data": {
      "image/png": "[encoded data removed]",
      "text/plain": [
       "<Figure size 432x288 with 1 Axes>"
      ]
     },
     "metadata": {
      "needs_background": "light"
     },
     "output_type": "display_data"
    }
   ],
   "source": [
    "plt.hist(df[cut_mask]['area'], bins = np.linspace(0,2**14*10,1000), histtype = 'step')\n",
    "plt.show()"
   ]
  },
  {
   "cell_type": "code",
   "execution_count": null,
   "id": "c423b871",
   "metadata": {},
   "outputs": [],
   "source": []
  },
  {
   "cell_type": "markdown",
   "id": "8691b5f1",
   "metadata": {},
   "source": [
    "## With its specific class"
   ]
  },
  {
   "cell_type": "code",
   "execution_count": 39,
   "id": "87912502",
   "metadata": {},
   "outputs": [],
   "source": [
    "bv_170K_0_0 = pylars.analysis.BV_dataset(run = base_run, \n",
    "                                         temperature = 170,\n",
    "                                         module = 0,\n",
    "                                         channel = 'wf0',\n",
    "                                         processor = process)"
   ]
  },
  {
   "cell_type": "code",
   "execution_count": 42,
   "id": "d79920cb",
   "metadata": {},
   "outputs": [
    {
     "data": {
      "text/plain": [
       "{'run': Run 6,\n",
       " 'temp': 170,\n",
       " 'module': 0,\n",
       " 'channel': 'wf0',\n",
       " 'process': <pylars.processing.rawprocessor.run_processor at 0x7f59f5f92f70>,\n",
       " 'voltages': array([46.  , 46.25, 46.5 , 46.75, 47.  , 47.25, 47.5 , 47.75, 48.  ,\n",
       "        48.25, 48.5 , 48.75, 49.  , 49.25, 49.5 , 49.75, 50.  , 50.25,\n",
       "        50.5 , 50.75, 51.  , 51.25, 51.5 , 51.75, 52.  , 52.25, 52.5 ])}"
      ]
     },
     "execution_count": 42,
     "metadata": {},
     "output_type": "execute_result"
    }
   ],
   "source": [
    "bv_170K_0_0.__dict__"
   ]
  },
  {
   "cell_type": "code",
   "execution_count": 44,
   "id": "7a1dcdbd",
   "metadata": {},
   "outputs": [
    {
     "name": "stdout",
     "output_type": "stream",
     "text": [
      "Loaded file:  /disk/gfs_atp/xenoscope/SiPMs/char_campaign/processed_data/run6/BV_170.00_46.00-3iertgj.h5\n",
      "Loaded file:  /disk/gfs_atp/xenoscope/SiPMs/char_campaign/processed_data/run6/BV_170.00_46.25-3iertgj.h5\n",
      "Loaded file:  /disk/gfs_atp/xenoscope/SiPMs/char_campaign/processed_data/run6/BV_170.00_46.50-3iertgj.h5\n",
      "Loaded file:  /disk/gfs_atp/xenoscope/SiPMs/char_campaign/processed_data/run6/BV_170.00_46.75-3iertgj.h5\n",
      "Loaded file:  /disk/gfs_atp/xenoscope/SiPMs/char_campaign/processed_data/run6/BV_170.00_47.00-3iertgj.h5\n",
      "Loaded file:  /disk/gfs_atp/xenoscope/SiPMs/char_campaign/processed_data/run6/BV_170.00_47.25-3iertgj.h5\n",
      "Loaded file:  /disk/gfs_atp/xenoscope/SiPMs/char_campaign/processed_data/run6/BV_170.00_47.50-3iertgj.h5\n",
      "Loaded file:  /disk/gfs_atp/xenoscope/SiPMs/char_campaign/processed_data/run6/BV_170.00_47.75-3iertgj.h5\n",
      "Loaded file:  /disk/gfs_atp/xenoscope/SiPMs/char_campaign/processed_data/run6/BV_170.00_48.00-3iertgj.h5\n",
      "Loaded file:  /disk/gfs_atp/xenoscope/SiPMs/char_campaign/processed_data/run6/BV_170.00_48.25-3iertgj.h5\n",
      "Loaded file:  /disk/gfs_atp/xenoscope/SiPMs/char_campaign/processed_data/run6/BV_170.00_48.50-3iertgj.h5\n",
      "Loaded file:  /disk/gfs_atp/xenoscope/SiPMs/char_campaign/processed_data/run6/BV_170.00_48.75-3iertgj.h5\n",
      "Loaded file:  /disk/gfs_atp/xenoscope/SiPMs/char_campaign/processed_data/run6/BV_170.00_49.00-3iertgj.h5\n",
      "Loaded file:  /disk/gfs_atp/xenoscope/SiPMs/char_campaign/processed_data/run6/BV_170.00_49.25-3iertgj.h5\n",
      "Loaded file:  /disk/gfs_atp/xenoscope/SiPMs/char_campaign/processed_data/run6/BV_170.00_49.50-3iertgj.h5\n",
      "Loaded file:  /disk/gfs_atp/xenoscope/SiPMs/char_campaign/processed_data/run6/BV_170.00_49.75-3iertgj.h5\n",
      "Loaded file:  /disk/gfs_atp/xenoscope/SiPMs/char_campaign/processed_data/run6/BV_170.00_50.00-3iertgj.h5\n",
      "Loaded file:  /disk/gfs_atp/xenoscope/SiPMs/char_campaign/processed_data/run6/BV_170.00_50.25-3iertgj.h5\n",
      "Loaded file:  /disk/gfs_atp/xenoscope/SiPMs/char_campaign/processed_data/run6/BV_170.00_50.50-3iertgj.h5\n",
      "Loaded file:  /disk/gfs_atp/xenoscope/SiPMs/char_campaign/processed_data/run6/BV_170.00_50.75-3iertgj.h5\n",
      "Loaded file:  /disk/gfs_atp/xenoscope/SiPMs/char_campaign/processed_data/run6/BV_170.00_51.00-3iertgj.h5\n",
      "Loaded file:  /disk/gfs_atp/xenoscope/SiPMs/char_campaign/processed_data/run6/BV_170.00_51.25-3iertgj.h5\n",
      "Loaded file:  /disk/gfs_atp/xenoscope/SiPMs/char_campaign/processed_data/run6/BV_170.00_51.50-3iertgj.h5\n",
      "Loaded file:  /disk/gfs_atp/xenoscope/SiPMs/char_campaign/processed_data/run6/BV_170.00_51.75-3iertgj.h5\n",
      "Loaded file:  /disk/gfs_atp/xenoscope/SiPMs/char_campaign/processed_data/run6/BV_170.00_52.00-3iertgj.h5\n",
      "Loaded file:  /disk/gfs_atp/xenoscope/SiPMs/char_campaign/processed_data/run6/BV_170.00_52.25-3iertgj.h5\n",
      "Loaded file:  /disk/gfs_atp/xenoscope/SiPMs/char_campaign/processed_data/run6/BV_170.00_52.50-3iertgj.h5\n"
     ]
    }
   ],
   "source": [
    "bv_170K_0_0.load_processed_data()"
   ]
  },
  {
   "cell_type": "code",
   "execution_count": 46,
   "id": "c1b29413",
   "metadata": {},
   "outputs": [],
   "source": [
    "data_dict = bv_170K_0_0.data"
   ]
  },
  {
   "cell_type": "code",
   "execution_count": 57,
   "id": "7fca7478",
   "metadata": {},
   "outputs": [
    {
     "data": {
      "text/plain": [
       "0"
      ]
     },
     "execution_count": 57,
     "metadata": {},
     "output_type": "execute_result"
    }
   ],
   "source": [
    "bv_170K_0_0.module"
   ]
  },
  {
   "cell_type": "code",
   "execution_count": 58,
   "id": "12dbd177",
   "metadata": {},
   "outputs": [],
   "source": [
    "from pylars.plotting.plotprocessed import *\n",
    "from pylars.plotting.plotanalysis import *"
   ]
  },
  {
   "cell_type": "code",
   "execution_count": 64,
   "id": "1a347054",
   "metadata": {},
   "outputs": [],
   "source": [
    "boop = bv_170K_0_0.data[50]"
   ]
  },
  {
   "cell_type": "code",
   "execution_count": 66,
   "id": "52597371",
   "metadata": {},
   "outputs": [],
   "source": [
    "beep = ((boop['position'] > (300 - 10)) &\n",
    "                (boop['position'] < (300 + 20)) &\n",
    "                (boop['length'] > 3))"
   ]
  },
  {
   "cell_type": "code",
   "execution_count": 67,
   "id": "92a92ac6",
   "metadata": {},
   "outputs": [
    {
     "data": {
      "text/html": [
       "<div>\n",
       "<style scoped>\n",
       "    .dataframe tbody tr th:only-of-type {\n",
       "        vertical-align: middle;\n",
       "    }\n",
       "\n",
       "    .dataframe tbody tr th {\n",
       "        vertical-align: top;\n",
       "    }\n",
       "\n",
       "    .dataframe thead th {\n",
       "        text-align: right;\n",
       "    }\n",
       "</style>\n",
       "<table border=\"1\" class=\"dataframe\">\n",
       "  <thead>\n",
       "    <tr style=\"text-align: right;\">\n",
       "      <th></th>\n",
       "      <th>module</th>\n",
       "      <th>channel</th>\n",
       "      <th>wf_number</th>\n",
       "      <th>peak_number</th>\n",
       "      <th>area</th>\n",
       "      <th>length</th>\n",
       "      <th>position</th>\n",
       "    </tr>\n",
       "  </thead>\n",
       "  <tbody>\n",
       "    <tr>\n",
       "      <th>0</th>\n",
       "      <td>0</td>\n",
       "      <td>wf0</td>\n",
       "      <td>0</td>\n",
       "      <td>0</td>\n",
       "      <td>1961480.0</td>\n",
       "      <td>70</td>\n",
       "      <td>305</td>\n",
       "    </tr>\n",
       "    <tr>\n",
       "      <th>7</th>\n",
       "      <td>0</td>\n",
       "      <td>wf0</td>\n",
       "      <td>1</td>\n",
       "      <td>0</td>\n",
       "      <td>1594660.0</td>\n",
       "      <td>69</td>\n",
       "      <td>307</td>\n",
       "    </tr>\n",
       "    <tr>\n",
       "      <th>15</th>\n",
       "      <td>0</td>\n",
       "      <td>wf0</td>\n",
       "      <td>2</td>\n",
       "      <td>0</td>\n",
       "      <td>1992020.0</td>\n",
       "      <td>79</td>\n",
       "      <td>306</td>\n",
       "    </tr>\n",
       "    <tr>\n",
       "      <th>21</th>\n",
       "      <td>0</td>\n",
       "      <td>wf0</td>\n",
       "      <td>3</td>\n",
       "      <td>0</td>\n",
       "      <td>1328015.0</td>\n",
       "      <td>68</td>\n",
       "      <td>305</td>\n",
       "    </tr>\n",
       "    <tr>\n",
       "      <th>25</th>\n",
       "      <td>0</td>\n",
       "      <td>wf0</td>\n",
       "      <td>4</td>\n",
       "      <td>0</td>\n",
       "      <td>1989140.0</td>\n",
       "      <td>97</td>\n",
       "      <td>305</td>\n",
       "    </tr>\n",
       "    <tr>\n",
       "      <th>...</th>\n",
       "      <td>...</td>\n",
       "      <td>...</td>\n",
       "      <td>...</td>\n",
       "      <td>...</td>\n",
       "      <td>...</td>\n",
       "      <td>...</td>\n",
       "      <td>...</td>\n",
       "    </tr>\n",
       "    <tr>\n",
       "      <th>226709</th>\n",
       "      <td>0</td>\n",
       "      <td>wf0</td>\n",
       "      <td>49995</td>\n",
       "      <td>0</td>\n",
       "      <td>1621800.0</td>\n",
       "      <td>75</td>\n",
       "      <td>306</td>\n",
       "    </tr>\n",
       "    <tr>\n",
       "      <th>226715</th>\n",
       "      <td>0</td>\n",
       "      <td>wf0</td>\n",
       "      <td>49996</td>\n",
       "      <td>0</td>\n",
       "      <td>1847070.0</td>\n",
       "      <td>67</td>\n",
       "      <td>306</td>\n",
       "    </tr>\n",
       "    <tr>\n",
       "      <th>226718</th>\n",
       "      <td>0</td>\n",
       "      <td>wf0</td>\n",
       "      <td>49997</td>\n",
       "      <td>0</td>\n",
       "      <td>1458050.0</td>\n",
       "      <td>73</td>\n",
       "      <td>305</td>\n",
       "    </tr>\n",
       "    <tr>\n",
       "      <th>226724</th>\n",
       "      <td>0</td>\n",
       "      <td>wf0</td>\n",
       "      <td>49998</td>\n",
       "      <td>0</td>\n",
       "      <td>2161200.0</td>\n",
       "      <td>87</td>\n",
       "      <td>305</td>\n",
       "    </tr>\n",
       "    <tr>\n",
       "      <th>226729</th>\n",
       "      <td>0</td>\n",
       "      <td>wf0</td>\n",
       "      <td>49999</td>\n",
       "      <td>0</td>\n",
       "      <td>1845375.0</td>\n",
       "      <td>80</td>\n",
       "      <td>305</td>\n",
       "    </tr>\n",
       "  </tbody>\n",
       "</table>\n",
       "<p>50000 rows × 7 columns</p>\n",
       "</div>"
      ],
      "text/plain": [
       "        module channel  wf_number  peak_number       area  length  position\n",
       "0            0     wf0          0            0  1961480.0      70       305\n",
       "7            0     wf0          1            0  1594660.0      69       307\n",
       "15           0     wf0          2            0  1992020.0      79       306\n",
       "21           0     wf0          3            0  1328015.0      68       305\n",
       "25           0     wf0          4            0  1989140.0      97       305\n",
       "...        ...     ...        ...          ...        ...     ...       ...\n",
       "226709       0     wf0      49995            0  1621800.0      75       306\n",
       "226715       0     wf0      49996            0  1847070.0      67       306\n",
       "226718       0     wf0      49997            0  1458050.0      73       305\n",
       "226724       0     wf0      49998            0  2161200.0      87       305\n",
       "226729       0     wf0      49999            0  1845375.0      80       305\n",
       "\n",
       "[50000 rows x 7 columns]"
      ]
     },
     "execution_count": 67,
     "metadata": {},
     "output_type": "execute_result"
    }
   ],
   "source": [
    "boop[beep]"
   ]
  },
  {
   "cell_type": "code",
   "execution_count": 82,
   "id": "e8a052da",
   "metadata": {},
   "outputs": [],
   "source": [
    "cm = plt.colormaps.get('winter')"
   ]
  },
  {
   "cell_type": "code",
   "execution_count": 84,
   "id": "fae629a7",
   "metadata": {},
   "outputs": [
    {
     "data": {
      "text/plain": [
       "(0.0, 0.09803921568627451, 0.9509803921568627, 1.0)"
      ]
     },
     "execution_count": 84,
     "metadata": {},
     "output_type": "execute_result"
    }
   ],
   "source": [
    "cm(0.1)"
   ]
  },
  {
   "cell_type": "code",
   "execution_count": 102,
   "id": "3c811a1f",
   "metadata": {},
   "outputs": [
    {
     "data": {
      "text/plain": [
       "(0.0, 0.44313725490196076, 0.7784313725490196, 1.0)"
      ]
     },
     "execution_count": 102,
     "metadata": {},
     "output_type": "execute_result"
    }
   ],
   "source": [
    "cm(12/N_lines)"
   ]
  },
  {
   "cell_type": "code",
   "execution_count": 94,
   "id": "49166755",
   "metadata": {
    "scrolled": false
   },
   "outputs": [
    {
     "ename": "ValueError",
     "evalue": "0.0 is not a valid value for color",
     "output_type": "error",
     "traceback": [
      "\u001b[0;31m---------------------------------------------------------------------------\u001b[0m",
      "\u001b[0;31mValueError\u001b[0m                                Traceback (most recent call last)",
      "Input \u001b[0;32mIn [94]\u001b[0m, in \u001b[0;36m<cell line: 5>\u001b[0;34m()\u001b[0m\n\u001b[1;32m      5\u001b[0m \u001b[38;5;28;01mfor\u001b[39;00m i, _v \u001b[38;5;129;01min\u001b[39;00m \u001b[38;5;28menumerate\u001b[39m(bv_170K_0_0\u001b[38;5;241m.\u001b[39mvoltages):\n\u001b[1;32m      7\u001b[0m     med, med_err, ax \u001b[38;5;241m=\u001b[39m plot_area_LED(bv_170K_0_0, \u001b[38;5;241m50\u001b[39m, color \u001b[38;5;241m=\u001b[39m cm(i\u001b[38;5;241m/\u001b[39mN_lines))\n\u001b[0;32m----> 8\u001b[0m     \u001b[43max\u001b[49m\u001b[38;5;241;43m.\u001b[39;49m\u001b[43maxvline\u001b[49m\u001b[43m(\u001b[49m\u001b[43mmed\u001b[49m\u001b[43m,\u001b[49m\u001b[43m \u001b[49m\u001b[43mcolor\u001b[49m\u001b[43m \u001b[49m\u001b[38;5;241;43m=\u001b[39;49m\u001b[43m \u001b[49m\u001b[43mi\u001b[49m\u001b[38;5;241;43m/\u001b[39;49m\u001b[43mN_lines\u001b[49m\u001b[43m)\u001b[49m\n\u001b[1;32m      9\u001b[0m plt\u001b[38;5;241m.\u001b[39mshow()\n",
      "File \u001b[0;32m/disk/groups/atp/miniconda3/envs/sipms/lib/python3.8/site-packages/matplotlib/axes/_axes.py:804\u001b[0m, in \u001b[0;36mAxes.axvline\u001b[0;34m(self, x, ymin, ymax, **kwargs)\u001b[0m\n\u001b[1;32m    801\u001b[0m scalex \u001b[38;5;241m=\u001b[39m (xx \u001b[38;5;241m<\u001b[39m xmin) \u001b[38;5;129;01mor\u001b[39;00m (xx \u001b[38;5;241m>\u001b[39m xmax)\n\u001b[1;32m    803\u001b[0m trans \u001b[38;5;241m=\u001b[39m \u001b[38;5;28mself\u001b[39m\u001b[38;5;241m.\u001b[39mget_xaxis_transform(which\u001b[38;5;241m=\u001b[39m\u001b[38;5;124m'\u001b[39m\u001b[38;5;124mgrid\u001b[39m\u001b[38;5;124m'\u001b[39m)\n\u001b[0;32m--> 804\u001b[0m l \u001b[38;5;241m=\u001b[39m \u001b[43mmlines\u001b[49m\u001b[38;5;241;43m.\u001b[39;49m\u001b[43mLine2D\u001b[49m\u001b[43m(\u001b[49m\u001b[43m[\u001b[49m\u001b[43mx\u001b[49m\u001b[43m,\u001b[49m\u001b[43m \u001b[49m\u001b[43mx\u001b[49m\u001b[43m]\u001b[49m\u001b[43m,\u001b[49m\u001b[43m \u001b[49m\u001b[43m[\u001b[49m\u001b[43mymin\u001b[49m\u001b[43m,\u001b[49m\u001b[43m \u001b[49m\u001b[43mymax\u001b[49m\u001b[43m]\u001b[49m\u001b[43m,\u001b[49m\u001b[43m \u001b[49m\u001b[43mtransform\u001b[49m\u001b[38;5;241;43m=\u001b[39;49m\u001b[43mtrans\u001b[49m\u001b[43m,\u001b[49m\u001b[43m \u001b[49m\u001b[38;5;241;43m*\u001b[39;49m\u001b[38;5;241;43m*\u001b[39;49m\u001b[43mkwargs\u001b[49m\u001b[43m)\u001b[49m\n\u001b[1;32m    805\u001b[0m \u001b[38;5;28mself\u001b[39m\u001b[38;5;241m.\u001b[39madd_line(l)\n\u001b[1;32m    806\u001b[0m \u001b[38;5;28mself\u001b[39m\u001b[38;5;241m.\u001b[39m_request_autoscale_view(scalex\u001b[38;5;241m=\u001b[39mscalex, scaley\u001b[38;5;241m=\u001b[39m\u001b[38;5;28;01mFalse\u001b[39;00m)\n",
      "File \u001b[0;32m/disk/groups/atp/miniconda3/envs/sipms/lib/python3.8/site-packages/matplotlib/lines.py:370\u001b[0m, in \u001b[0;36mLine2D.__init__\u001b[0;34m(self, xdata, ydata, linewidth, linestyle, color, marker, markersize, markeredgewidth, markeredgecolor, markerfacecolor, markerfacecoloralt, fillstyle, antialiased, dash_capstyle, solid_capstyle, dash_joinstyle, solid_joinstyle, pickradius, drawstyle, markevery, **kwargs)\u001b[0m\n\u001b[1;32m    367\u001b[0m \u001b[38;5;28mself\u001b[39m\u001b[38;5;241m.\u001b[39mset_drawstyle(drawstyle)\n\u001b[1;32m    369\u001b[0m \u001b[38;5;28mself\u001b[39m\u001b[38;5;241m.\u001b[39m_color \u001b[38;5;241m=\u001b[39m \u001b[38;5;28;01mNone\u001b[39;00m\n\u001b[0;32m--> 370\u001b[0m \u001b[38;5;28;43mself\u001b[39;49m\u001b[38;5;241;43m.\u001b[39;49m\u001b[43mset_color\u001b[49m\u001b[43m(\u001b[49m\u001b[43mcolor\u001b[49m\u001b[43m)\u001b[49m\n\u001b[1;32m    371\u001b[0m \u001b[38;5;28mself\u001b[39m\u001b[38;5;241m.\u001b[39m_marker \u001b[38;5;241m=\u001b[39m MarkerStyle(marker, fillstyle)\n\u001b[1;32m    373\u001b[0m \u001b[38;5;28mself\u001b[39m\u001b[38;5;241m.\u001b[39m_markevery \u001b[38;5;241m=\u001b[39m \u001b[38;5;28;01mNone\u001b[39;00m\n",
      "File \u001b[0;32m/disk/groups/atp/miniconda3/envs/sipms/lib/python3.8/site-packages/matplotlib/lines.py:1030\u001b[0m, in \u001b[0;36mLine2D.set_color\u001b[0;34m(self, color)\u001b[0m\n\u001b[1;32m   1022\u001b[0m \u001b[38;5;28;01mdef\u001b[39;00m \u001b[38;5;21mset_color\u001b[39m(\u001b[38;5;28mself\u001b[39m, color):\n\u001b[1;32m   1023\u001b[0m     \u001b[38;5;124;03m\"\"\"\u001b[39;00m\n\u001b[1;32m   1024\u001b[0m \u001b[38;5;124;03m    Set the color of the line.\u001b[39;00m\n\u001b[1;32m   1025\u001b[0m \n\u001b[0;32m   (...)\u001b[0m\n\u001b[1;32m   1028\u001b[0m \u001b[38;5;124;03m    color : color\u001b[39;00m\n\u001b[1;32m   1029\u001b[0m \u001b[38;5;124;03m    \"\"\"\u001b[39;00m\n\u001b[0;32m-> 1030\u001b[0m     \u001b[43mmcolors\u001b[49m\u001b[38;5;241;43m.\u001b[39;49m\u001b[43m_check_color_like\u001b[49m\u001b[43m(\u001b[49m\u001b[43mcolor\u001b[49m\u001b[38;5;241;43m=\u001b[39;49m\u001b[43mcolor\u001b[49m\u001b[43m)\u001b[49m\n\u001b[1;32m   1031\u001b[0m     \u001b[38;5;28mself\u001b[39m\u001b[38;5;241m.\u001b[39m_color \u001b[38;5;241m=\u001b[39m color\n\u001b[1;32m   1032\u001b[0m     \u001b[38;5;28mself\u001b[39m\u001b[38;5;241m.\u001b[39mstale \u001b[38;5;241m=\u001b[39m \u001b[38;5;28;01mTrue\u001b[39;00m\n",
      "File \u001b[0;32m/disk/groups/atp/miniconda3/envs/sipms/lib/python3.8/site-packages/matplotlib/colors.py:130\u001b[0m, in \u001b[0;36m_check_color_like\u001b[0;34m(**kwargs)\u001b[0m\n\u001b[1;32m    128\u001b[0m \u001b[38;5;28;01mfor\u001b[39;00m k, v \u001b[38;5;129;01min\u001b[39;00m kwargs\u001b[38;5;241m.\u001b[39mitems():\n\u001b[1;32m    129\u001b[0m     \u001b[38;5;28;01mif\u001b[39;00m \u001b[38;5;129;01mnot\u001b[39;00m is_color_like(v):\n\u001b[0;32m--> 130\u001b[0m         \u001b[38;5;28;01mraise\u001b[39;00m \u001b[38;5;167;01mValueError\u001b[39;00m(\u001b[38;5;124mf\u001b[39m\u001b[38;5;124m\"\u001b[39m\u001b[38;5;132;01m{\u001b[39;00mv\u001b[38;5;132;01m!r}\u001b[39;00m\u001b[38;5;124m is not a valid value for \u001b[39m\u001b[38;5;132;01m{\u001b[39;00mk\u001b[38;5;132;01m}\u001b[39;00m\u001b[38;5;124m\"\u001b[39m)\n",
      "\u001b[0;31mValueError\u001b[0m: 0.0 is not a valid value for color"
     ]
    },
    {
     "data": {
      "image/png": "[encoded data removed]",
      "text/plain": [
       "<Figure size 1080x432 with 1 Axes>"
      ]
     },
     "metadata": {
      "needs_background": "light"
     },
     "output_type": "display_data"
    },
    {
     "data": {
      "image/png": "[encoded data removed]",
      "text/plain": [
       "<Figure size 864x432 with 1 Axes>"
      ]
     },
     "metadata": {
      "needs_background": "light"
     },
     "output_type": "display_data"
    }
   ],
   "source": [
    "cm = plt.get_cmap('winter')\n",
    "N_lines = len(bv_170K_0_0.voltages)\n",
    "\n",
    "fig, ax = plt.subplots(1,1,figsize = (15,6))\n",
    "for i, _v in enumerate(bv_170K_0_0.voltages):\n",
    "    \n",
    "    med, med_err, ax = plot_area_LED(bv_170K_0_0, 50, color = cm(i/N_lines))\n",
    "    ax.axvline(med, color = i/N_lines)\n",
    "plt.show()"
   ]
  },
  {
   "cell_type": "code",
   "execution_count": 105,
   "id": "043b5210",
   "metadata": {},
   "outputs": [
    {
     "data": {
      "image/png": "[encoded data removed]",
      "text/plain": [
       "<Figure size 432x288 with 1 Axes>"
      ]
     },
     "metadata": {
      "needs_background": "light"
     },
     "output_type": "display_data"
    }
   ],
   "source": [
    "plt.hist(bv_170K_0_0.data[51]['area'], \n",
    "         bins = np.linspace(0.5e6,3e6,500), color = cm(0))\n",
    "plt.show()"
   ]
  },
  {
   "cell_type": "code",
   "execution_count": null,
   "id": "4eec9c4f",
   "metadata": {},
   "outputs": [],
   "source": []
  }
 ],
 "metadata": {
  "kernelspec": {
   "display_name": "Python 3 (ipykernel)",
   "language": "python",
   "name": "python3"
  },
  "language_info": {
   "codemirror_mode": {
    "name": "ipython",
    "version": 3
   },
   "file_extension": ".py",
   "mimetype": "text/x-python",
   "name": "python",
   "nbconvert_exporter": "python",
   "pygments_lexer": "ipython3",
   "version": "3.8.13"
  }
 },
 "nbformat": 4,
 "nbformat_minor": 5
}
